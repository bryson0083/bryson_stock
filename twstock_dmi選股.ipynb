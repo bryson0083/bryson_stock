{
 "cells": [
  {
   "cell_type": "markdown",
   "metadata": {},
   "source": [
    "# Reference  \n",
    "* [DMI指标.py](https://github.com/zhy0313/ea-python/blob/master/DMI%E6%8C%87%E6%A0%87.py)  \n",
    "* [DMI: 一个重要的技术指标](https://baijiahao.baidu.com/s?id=1697807373881020020)  \n",
    "* [ta-lib-python](https://github.com/TA-Lib/ta-lib-python)  \n",
    "* [輕鬆學會程式交易 | Chapter 5 | 建立自己的交易系統](https://hackmd.io/@tai-quantup/ch5)  \n",
    "* [量化交易策略](https://github.com/zhy0313/ea-python)"
   ]
  },
  {
   "cell_type": "code",
   "execution_count": null,
   "metadata": {},
   "outputs": [],
   "source": [
    "import os\n",
    "from datetime import date\n",
    "from datetime import datetime\n",
    "\n",
    "import pandas as pd"
   ]
  },
  {
   "cell_type": "code",
   "execution_count": null,
   "metadata": {},
   "outputs": [],
   "source": [
    "from finlab import data"
   ]
  },
  {
   "cell_type": "code",
   "execution_count": null,
   "metadata": {},
   "outputs": [],
   "source": [
    "# 引用自建公用模組\n",
    "from proj_util_pkg.settings import ProjEnvSettings\n",
    "from proj_util_pkg.finlab_api import finlab_manager as flm\n",
    "from proj_util_pkg.google_api import gspread_manager as gsm\n",
    "from proj_util_pkg.common import tw_stock_topic as tst"
   ]
  },
  {
   "cell_type": "markdown",
   "metadata": {},
   "source": [
    "## 公用參數設定"
   ]
  },
  {
   "cell_type": "code",
   "execution_count": null,
   "metadata": {},
   "outputs": [],
   "source": [
    "# finlab api 服務初始化\n",
    "finlab = flm.FinlabManager()\n",
    "data.force_cloud_download = False"
   ]
  },
  {
   "cell_type": "code",
   "execution_count": null,
   "metadata": {},
   "outputs": [],
   "source": [
    "# 資訊輸出Google SpreadSheet 表單參數設定\n",
    "GSPERAD_SHEET_KEY = os.environ.get('gspread_wb_key')  # Google SpreadSheet 表單ID\n",
    "OUTPUT_GSHEET_NAME = '選股清單02'"
   ]
  },
  {
   "cell_type": "code",
   "execution_count": null,
   "metadata": {},
   "outputs": [],
   "source": [
    "# 本地報表輸出路徑\n",
    "REPORT_PATH = os.environ.get('report_path')\n",
    "REPORT_PATH"
   ]
  },
  {
   "cell_type": "markdown",
   "metadata": {},
   "source": [
    "## 外部資料讀取"
   ]
  },
  {
   "cell_type": "code",
   "execution_count": null,
   "metadata": {},
   "outputs": [],
   "source": [
    "# 讀取台股收盤價資訊\n",
    "close = data.get(\"price:收盤價\", save_to_storage=True)\n",
    "vol = data.get(\"price:成交股數\", save_to_storage=True)\n",
    "stock_info = data.get('company_basic_info', save_to_storage=True)\n",
    "pe_ratio = data.get('price_earning_ratio:本益比', save_to_storage=True)\n",
    "pb_ratio = data.get('price_earning_ratio:股價淨值比', save_to_storage=True)\n",
    "institutional_investors_foreign = data.get('institutional_investors_trading_summary:外陸資買賣超股數(不含外資自營商)', save_to_storage=True)\n",
    "institutional_investors_inv_trust = data.get('institutional_investors_trading_summary:投信買賣超股數', save_to_storage=True)\n",
    "institutional_investors_dealer = data.get('institutional_investors_trading_summary:自營商買賣超股數(避險)', save_to_storage=True)"
   ]
  },
  {
   "cell_type": "markdown",
   "metadata": {},
   "source": [
    "## 數據分析"
   ]
  },
  {
   "cell_type": "code",
   "execution_count": null,
   "metadata": {},
   "outputs": [],
   "source": [
    "minus_di = data.indicator(\n",
    "    \"MINUS_DI\",\n",
    "    adjust_price=False,\n",
    "    resample=\"D\",\n",
    "    timeperiod=72,\n",
    "    save_to_storage=True,\n",
    ")"
   ]
  },
  {
   "cell_type": "code",
   "execution_count": null,
   "metadata": {},
   "outputs": [],
   "source": [
    "plus_di = data.indicator(\n",
    "    \"PLUS_DI\",\n",
    "    adjust_price=False,\n",
    "    resample=\"D\",\n",
    "    timeperiod=72,\n",
    "    save_to_storage=True,\n",
    ")"
   ]
  },
  {
   "cell_type": "code",
   "execution_count": null,
   "metadata": {},
   "outputs": [],
   "source": [
    "sma10 = close.average(10)\n",
    "sma20 = close.average(20)\n",
    "vol_sma5 = vol.average(5)"
   ]
  },
  {
   "cell_type": "code",
   "execution_count": null,
   "metadata": {},
   "outputs": [],
   "source": [
    "# 黃金交叉\n",
    "def crossover(over,down):\n",
    "    a1 = over\n",
    "    b1 = down\n",
    "    a2 = a1.shift(1)\n",
    "    b2 = b1.shift(1)\n",
    "    crossover =  (a1>a2) & (a1>b1) & (b2>a2)\n",
    "\n",
    "    return crossover\n",
    "\n",
    "# 死亡交叉\n",
    "def crossunder(down,over):\n",
    "    a1 = down\n",
    "    b1 = over\n",
    "    a2 = a1.shift(1)\n",
    "    b2 = b1.shift(1)\n",
    "    crossdown =  (a1<a2) & (a1<b1) & (b2<a2)\n",
    "    \n",
    "    return crossdown"
   ]
  },
  {
   "cell_type": "code",
   "execution_count": null,
   "metadata": {},
   "outputs": [],
   "source": [
    "# crossover_test = crossover(sma10, sma20)\n",
    "# crossover_test\n",
    "# filter_stock = crossover_test.tail(1)\n",
    "# filtered_symbols = crossover_test.columns[crossover_test.iloc[0]].tolist()\n",
    "# df_filtered_symbols = pd.DataFrame(filtered_symbols, columns=['symbol'])\n",
    "# df_filtered_symbols"
   ]
  },
  {
   "cell_type": "code",
   "execution_count": null,
   "metadata": {},
   "outputs": [],
   "source": [
    "# 五日均量大於500張\n",
    "# vol.average(5) > 500000"
   ]
  },
  {
   "cell_type": "code",
   "execution_count": null,
   "metadata": {},
   "outputs": [],
   "source": [
    "cond_1 = plus_di.rise().sustain(2)\n",
    "cond_2 = plus_di > minus_di\n",
    "# cond_3 = sma10.rise().sustain(3)\n",
    "# cond_4 = sma20.rise().sustain(3)\n",
    "# cond_5 = sma10 > sma20\n",
    "cond_5 = crossover(sma10, sma20)\n",
    "# cond_6 = crossover(plus_di, minus_di)\n",
    "\n",
    "filter_stock = cond_1 & cond_2 & cond_5\n",
    "filter_stock"
   ]
  },
  {
   "cell_type": "code",
   "execution_count": null,
   "metadata": {},
   "outputs": [],
   "source": [
    "filter_stock = filter_stock.tail(1)\n",
    "filtered_symbols = filter_stock.columns[filter_stock.iloc[0]].tolist()\n",
    "df_filtered_symbols = pd.DataFrame(filtered_symbols, columns=['symbol'])\n",
    "df_filtered_symbols"
   ]
  },
  {
   "cell_type": "code",
   "execution_count": null,
   "metadata": {},
   "outputs": [],
   "source": [
    "stock_name = stock_info[['stock_id', '公司簡稱']]\n",
    "stock_name = stock_name.rename(columns={'stock_id': 'symbol'})"
   ]
  },
  {
   "cell_type": "code",
   "execution_count": null,
   "metadata": {},
   "outputs": [],
   "source": [
    "last_vol_sma5 = vol_sma5.tail(1).T.reset_index()\n",
    "last_vol_sma5 = last_vol_sma5.rename(columns={last_vol_sma5.columns[0]: 'symbol', last_vol_sma5.columns[1]: 'vol_sma5'})\n",
    "last_vol_sma5.fillna(0, inplace=True)\n",
    "# last_vol_sma5[\"五日均量\"] = last_vol_sma5[\"vol_sma5\"] / 1000\n",
    "last_vol_sma5['五日均量'] = last_vol_sma5['vol_sma5'] / 1000\n",
    "last_vol_sma5['五日均量'] = last_vol_sma5['五日均量'].round().astype(int)\n",
    "\n",
    "del last_vol_sma5['vol_sma5']\n",
    "\n",
    "last_vol_sma5"
   ]
  },
  {
   "cell_type": "code",
   "execution_count": null,
   "metadata": {},
   "outputs": [],
   "source": [
    "# Assuming you have a DataFrame called stock_name with columns stock_id and stock_name\n",
    "\n",
    "# Merge df_filtered_symbols with stock_name on stock_id\n",
    "merged_df = df_filtered_symbols.merge(stock_name, on='symbol')\n",
    "merged_df = merged_df.merge(last_vol_sma5, on='symbol')\n",
    "merged_df[\"web_link\"] = merged_df[\"symbol\"].apply(lambda x: f\"https://www.wantgoo.com/stock/{x}/technical-chart\")\n",
    "merged_df[\"題材概念股\"] = merged_df[\"symbol\"].apply(lambda x: tst.read_topic_stocks(x))\n",
    "\n",
    "# Print the merged DataFrame\n",
    "print(merged_df)"
   ]
  },
  {
   "cell_type": "code",
   "execution_count": null,
   "metadata": {},
   "outputs": [],
   "source": [
    "# 輸出報表留存\n",
    "today = datetime.now().strftime(\"%Y%m%d\")\n",
    "merged_df.to_excel(f'{REPORT_PATH}/選股02_{today}.xlsx', index=False)"
   ]
  },
  {
   "cell_type": "markdown",
   "metadata": {},
   "source": [
    "## 輸出結果至Google sheet"
   ]
  },
  {
   "cell_type": "code",
   "execution_count": null,
   "metadata": {},
   "outputs": [],
   "source": [
    "# Google SpreadSheet 公用程式初始化\n",
    "gspread_mgr = gsm.GspreadManager()\n",
    "gspread_wb = gspread_mgr.get_spreadsheet(GSPERAD_SHEET_KEY)\n",
    "\n",
    "print(f\"更新Google 表單：{gspread_wb.title}，工作表：{OUTPUT_GSHEET_NAME}\")"
   ]
  },
  {
   "cell_type": "code",
   "execution_count": null,
   "metadata": {},
   "outputs": [],
   "source": [
    "# 刪除再重建工作表\n",
    "gspread_mgr.recreate_worksheet(GSPERAD_SHEET_KEY, OUTPUT_GSHEET_NAME)"
   ]
  },
  {
   "cell_type": "code",
   "execution_count": null,
   "metadata": {},
   "outputs": [],
   "source": [
    "# 更新工作表資料\n",
    "gspread_mgr.update_worksheet_values(\n",
    "    GSPERAD_SHEET_KEY, \n",
    "    OUTPUT_GSHEET_NAME, \n",
    "    [merged_df.columns.values.tolist()] + merged_df.values.tolist()\n",
    ")"
   ]
  },
  {
   "cell_type": "code",
   "execution_count": null,
   "metadata": {},
   "outputs": [],
   "source": []
  }
 ],
 "metadata": {
  "kernelspec": {
   "display_name": ".venv",
   "language": "python",
   "name": "python3"
  },
  "language_info": {
   "codemirror_mode": {
    "name": "ipython",
    "version": 3
   },
   "file_extension": ".py",
   "mimetype": "text/x-python",
   "name": "python",
   "nbconvert_exporter": "python",
   "pygments_lexer": "ipython3",
   "version": "3.12.3"
  }
 },
 "nbformat": 4,
 "nbformat_minor": 2
}
