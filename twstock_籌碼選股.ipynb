{
 "cells": [
  {
   "cell_type": "code",
   "execution_count": null,
   "metadata": {},
   "outputs": [],
   "source": [
    "import os\n",
    "from datetime import date\n",
    "from datetime import datetime\n",
    "\n",
    "import pandas as pd"
   ]
  },
  {
   "cell_type": "code",
   "execution_count": null,
   "metadata": {},
   "outputs": [],
   "source": [
    "from finlab import data"
   ]
  },
  {
   "cell_type": "code",
   "execution_count": null,
   "metadata": {},
   "outputs": [],
   "source": [
    "# 引用自建公用模組\n",
    "from proj_util_pkg.settings import ProjEnvSettings\n",
    "from proj_util_pkg.finlab_api import finlab_manager as flm\n",
    "from proj_util_pkg.google_api import gspread_manager as gsm\n",
    "from proj_util_pkg.common import tw_stock_topic as tst"
   ]
  },
  {
   "cell_type": "markdown",
   "metadata": {},
   "source": [
    "## 公用參數設定"
   ]
  },
  {
   "cell_type": "code",
   "execution_count": null,
   "metadata": {},
   "outputs": [],
   "source": [
    "# finlab api 服務初始化\n",
    "finlab = flm.FinlabManager()\n",
    "data.force_cloud_download = False"
   ]
  },
  {
   "cell_type": "code",
   "execution_count": null,
   "metadata": {},
   "outputs": [],
   "source": [
    "# 資訊輸出Google SpreadSheet 表單參數設定\n",
    "GSPERAD_SHEET_KEY = os.environ.get('gspread_wb_key')  # Google SpreadSheet 表單ID\n",
    "OUTPUT_GSHEET_NAME = '選股清單03'"
   ]
  },
  {
   "cell_type": "code",
   "execution_count": null,
   "metadata": {},
   "outputs": [],
   "source": [
    "# 本地報表輸出路徑\n",
    "REPORT_PATH = os.environ.get('report_path')"
   ]
  },
  {
   "cell_type": "markdown",
   "metadata": {},
   "source": [
    "## 外部資料讀取"
   ]
  },
  {
   "cell_type": "code",
   "execution_count": null,
   "metadata": {},
   "outputs": [],
   "source": [
    "# 讀取台股收盤價資訊\n",
    "close = data.get(\"price:收盤價\", save_to_storage=True)\n",
    "vol = data.get(\"price:成交股數\", save_to_storage=True)\n",
    "stock_info = data.get('company_basic_info', save_to_storage=True)\n",
    "pe_ratio = data.get('price_earning_ratio:本益比', save_to_storage=True)\n",
    "pb_ratio = data.get('price_earning_ratio:股價淨值比', save_to_storage=True)\n",
    "institutional_investors_foreign = data.get('institutional_investors_trading_summary:外陸資買賣超股數(不含外資自營商)', save_to_storage=True)\n",
    "institutional_investors_inv_trust = data.get('institutional_investors_trading_summary:投信買賣超股數', save_to_storage=True)\n",
    "institutional_investors_dealer = data.get('institutional_investors_trading_summary:自營商買賣超股數(避險)', save_to_storage=True)\n",
    "\n",
    "# broker_info = data.get('broker_mapping', save_to_storage=True)\n",
    "top15_broker = data.get('broker_transactions', save_to_storage=True)\n",
    "inventory = data.get('inventory', save_to_storage=True)"
   ]
  },
  {
   "cell_type": "markdown",
   "metadata": {},
   "source": [
    "## 數據分析"
   ]
  },
  {
   "cell_type": "code",
   "execution_count": null,
   "metadata": {},
   "outputs": [],
   "source": [
    "vol.fillna(0.0, inplace=True)\n",
    "vol_one_lot = vol / 1000\n",
    "vol_one_lot = vol_one_lot.round().astype(int)  # 成交股數轉成張數\n",
    "vol_one_lot.tail(1)"
   ]
  },
  {
   "cell_type": "code",
   "execution_count": null,
   "metadata": {},
   "outputs": [],
   "source": [
    "# close[\"3228\"][\"2023-11-21\":\"2023-11-21\"]\n",
    "# vol[\"3228\"][\"2023-11-21\":\"2023-11-21\"]\n",
    "# vol_one_lot[\"2330\"]"
   ]
  },
  {
   "cell_type": "code",
   "execution_count": null,
   "metadata": {},
   "outputs": [],
   "source": [
    "# inventory_level = {\n",
    "#     1: \"1-999\",\n",
    "#     2: \"1,000-5,000\",\n",
    "#     3: \"5,001-10,000\",\n",
    "#     4: \"10,001-15,000\",\n",
    "#     5: \"15,001-20,000\",\n",
    "#     6: \"20,001-30,000\",\n",
    "#     7: \"30,001-40,000\",\n",
    "#     8: \"40,001-50,000\",\n",
    "#     9: \"50,001-100,000\",\n",
    "#     10: \"100,001-200,000\",\n",
    "#     11: \"200,001-400,000\",\n",
    "#     12: \"400,001-600,000\",\n",
    "#     13: \"600,001-800,000\",\n",
    "#     14: \"800,001-1,000,000\",\n",
    "#     15: \"1,000,001以上\",\n",
    "#     17: \"合計\",\n",
    "# }"
   ]
  },
  {
   "cell_type": "code",
   "execution_count": null,
   "metadata": {},
   "outputs": [],
   "source": [
    "# close.tail(1)\n",
    "inventory[inventory['date'] == inventory['date'].max()]"
   ]
  },
  {
   "cell_type": "code",
   "execution_count": null,
   "metadata": {},
   "outputs": [],
   "source": [
    "institutional_investors_foreign.tail(1)"
   ]
  },
  {
   "cell_type": "code",
   "execution_count": null,
   "metadata": {},
   "outputs": [],
   "source": [
    "# top15_broker\n",
    "top15_broker[\"net_buy\"] = top15_broker[\"buy\"] - top15_broker[\"sell\"]\n",
    "# top15_broker[(top15_broker[\"stock_id\"] == \"00903\") & (top15_broker[\"date\"] == top15_broker[\"date\"].max())].sort_values(by=\"net_buy\", ascending=False)\n",
    "# top15_broker[(top15_broker[\"stock_id\"] == \"2330\") & (top15_broker[\"date\"] == \"2024-06-28\")]"
   ]
  },
  {
   "cell_type": "code",
   "execution_count": null,
   "metadata": {},
   "outputs": [],
   "source": [
    "# 針對top15_broker做pivot table彙總，以欄位stock_id, date進行aggregate sum(net_buy)\n",
    "top15_broker_summary_daily = top15_broker.pivot_table(index=[\"stock_id\"], columns=[\"date\"], values=\"net_buy\", aggfunc='sum').T\n",
    "top15_broker_summary_daily.fillna(0.0, inplace=True)"
   ]
  },
  {
   "cell_type": "code",
   "execution_count": null,
   "metadata": {},
   "outputs": [],
   "source": [
    "top15_broker_summary_daily.tail(1)"
   ]
  },
  {
   "cell_type": "code",
   "execution_count": null,
   "metadata": {},
   "outputs": [],
   "source": [
    "# 主力籌碼集中度 （1日、5日、10日）\n",
    "major_player_chips_concentration_cum1 = top15_broker_summary_daily / vol_one_lot * 100\n",
    "major_player_chips_concentration_cum5 = top15_broker_summary_daily.rolling(window=5).sum() / vol_one_lot.rolling(window=5).sum() * 100\n",
    "major_player_chips_concentration_cum10 = top15_broker_summary_daily.rolling(window=10).sum() / vol_one_lot.rolling(window=10).sum().tail(1) * 100"
   ]
  },
  {
   "cell_type": "code",
   "execution_count": null,
   "metadata": {},
   "outputs": [],
   "source": [
    "# # 顯示個股主力籌碼集中度\n",
    "# sid = \"6829\"\n",
    "# print(major_player_chips_concentration_cum1[sid].tail(1))\n",
    "# print(major_player_chips_concentration_cum5[sid].tail(1))\n",
    "# print(major_player_chips_concentration_cum10[sid].tail(1))"
   ]
  },
  {
   "cell_type": "code",
   "execution_count": null,
   "metadata": {},
   "outputs": [],
   "source": [
    "# 選股條件\n",
    "cond1 = major_player_chips_concentration_cum1 > 20  # 主力籌碼集中度1日 > 10%\n",
    "cond2 = major_player_chips_concentration_cum5 > 20  # 主力籌碼集中度5日 > 10%\n",
    "cond3 = major_player_chips_concentration_cum10 > 20  # 主力籌碼集中度10日 > 10%\n",
    "\n",
    "filter_stock = (cond1 & cond2 & cond3).tail(1)\n",
    "# filter_stock = (cond2 & cond3).tail(1)"
   ]
  },
  {
   "cell_type": "code",
   "execution_count": null,
   "metadata": {},
   "outputs": [],
   "source": [
    "filter_stock = filter_stock.tail(1)\n",
    "filtered_symbols = filter_stock.columns[filter_stock.iloc[0]].tolist()\n",
    "df_filtered_symbols = pd.DataFrame(filtered_symbols, columns=['symbol'])\n",
    "\n",
    "print(df_filtered_symbols.shape)\n",
    "df_filtered_symbols.head(3)"
   ]
  },
  {
   "cell_type": "code",
   "execution_count": null,
   "metadata": {},
   "outputs": [],
   "source": [
    "stock_name = stock_info[['stock_id', '公司簡稱']]\n",
    "stock_name = stock_name.rename(columns={'stock_id': 'symbol'})"
   ]
  },
  {
   "cell_type": "code",
   "execution_count": null,
   "metadata": {},
   "outputs": [],
   "source": [
    "# stock_name[stock_name['symbol'] == '5483']"
   ]
  },
  {
   "cell_type": "code",
   "execution_count": null,
   "metadata": {},
   "outputs": [],
   "source": [
    "# Assuming you have a DataFrame called stock_name with columns stock_id and stock_name\n",
    "\n",
    "# Merge df_filtered_symbols with stock_name on stock_id\n",
    "merged_df = df_filtered_symbols.merge(stock_name, on='symbol', how='left')\n",
    "merged_df = merged_df.fillna('', inplace=False)\n",
    "merged_df[\"web_link\"] = merged_df[\"symbol\"].apply(lambda x: f\"https://www.wantgoo.com/stock/{x}/technical-chart\")\n",
    "merged_df[\"題材概念股\"] = merged_df[\"symbol\"].apply(lambda x: tst.read_topic_stocks(x))\n",
    "\n",
    "# Print the merged DataFrame\n",
    "print(merged_df)"
   ]
  },
  {
   "cell_type": "code",
   "execution_count": null,
   "metadata": {},
   "outputs": [],
   "source": [
    "# # major_player_chips_concentration_cum1[filtered_symbols].tail(1)\n",
    "# major_player_chips_concentration_cum10[filtered_symbols].tail(1)"
   ]
  },
  {
   "cell_type": "code",
   "execution_count": null,
   "metadata": {},
   "outputs": [],
   "source": [
    "# 輸出報表留存\n",
    "today = datetime.now().strftime(\"%Y%m%d\")\n",
    "merged_df.to_excel(f'{REPORT_PATH}/{OUTPUT_GSHEET_NAME}_{today}.xlsx', index=False)"
   ]
  },
  {
   "cell_type": "markdown",
   "metadata": {},
   "source": [
    "## 輸出結果至Google sheet"
   ]
  },
  {
   "cell_type": "code",
   "execution_count": null,
   "metadata": {},
   "outputs": [],
   "source": [
    "# Google SpreadSheet 公用程式初始化\n",
    "gspread_mgr = gsm.GspreadManager()\n",
    "gspread_wb = gspread_mgr.get_spreadsheet(GSPERAD_SHEET_KEY)\n",
    "\n",
    "print(f\"更新Google 表單：{gspread_wb.title}，工作表：{OUTPUT_GSHEET_NAME}\")"
   ]
  },
  {
   "cell_type": "code",
   "execution_count": null,
   "metadata": {},
   "outputs": [],
   "source": [
    "# 刪除再重建工作表\n",
    "gspread_mgr.recreate_worksheet(GSPERAD_SHEET_KEY, OUTPUT_GSHEET_NAME)"
   ]
  },
  {
   "cell_type": "code",
   "execution_count": null,
   "metadata": {},
   "outputs": [],
   "source": [
    "# 更新工作表資料\n",
    "gspread_mgr.update_worksheet_values(\n",
    "    GSPERAD_SHEET_KEY, \n",
    "    OUTPUT_GSHEET_NAME, \n",
    "    [merged_df.columns.values.tolist()] + merged_df.values.tolist()\n",
    ")"
   ]
  },
  {
   "cell_type": "code",
   "execution_count": null,
   "metadata": {},
   "outputs": [],
   "source": []
  }
 ],
 "metadata": {
  "kernelspec": {
   "display_name": ".venv",
   "language": "python",
   "name": "python3"
  },
  "language_info": {
   "codemirror_mode": {
    "name": "ipython",
    "version": 3
   },
   "file_extension": ".py",
   "mimetype": "text/x-python",
   "name": "python",
   "nbconvert_exporter": "python",
   "pygments_lexer": "ipython3",
   "version": "3.12.3"
  }
 },
 "nbformat": 4,
 "nbformat_minor": 2
}
