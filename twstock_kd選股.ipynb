{
 "cells": [
  {
   "cell_type": "markdown",
   "metadata": {},
   "source": [
    "# 台股選股清單  \n",
    "## 選股條件  \n",
    "* KD值低於20，交易量大於500張，本益比小於16倍"
   ]
  },
  {
   "cell_type": "code",
   "execution_count": null,
   "metadata": {},
   "outputs": [],
   "source": [
    "import os\n",
    "from datetime import date\n",
    "from datetime import datetime\n",
    "\n",
    "import pandas as pd"
   ]
  },
  {
   "cell_type": "code",
   "execution_count": null,
   "metadata": {},
   "outputs": [],
   "source": [
    "from finlab import data\n",
    "import finlab"
   ]
  },
  {
   "cell_type": "code",
   "execution_count": null,
   "metadata": {},
   "outputs": [],
   "source": [
    "# 引用自建公用模組\n",
    "from proj_util_pkg.settings import ProjEnvSettings\n",
    "from proj_util_pkg.finlab_api import finlab_manager as flm\n",
    "from proj_util_pkg.google_api import gspread_manager as gsm\n",
    "from proj_util_pkg.common import tw_stock_topic as tst"
   ]
  },
  {
   "cell_type": "markdown",
   "metadata": {},
   "source": [
    "## 公用參數設定"
   ]
  },
  {
   "cell_type": "code",
   "execution_count": null,
   "metadata": {},
   "outputs": [],
   "source": [
    "# finlab api 服務初始化\n",
    "finlab = flm.FinlabManager()\n",
    "data.force_cloud_download = False"
   ]
  },
  {
   "cell_type": "code",
   "execution_count": null,
   "metadata": {},
   "outputs": [],
   "source": [
    "# 資訊輸出Google SpreadSheet 表單參數設定\n",
    "GSPERAD_SHEET_KEY = os.environ.get('gspread_wb_key')  # Google SpreadSheet 表單ID\n",
    "OUTPUT_GSHEET_NAME = '選股清單01'"
   ]
  },
  {
   "cell_type": "code",
   "execution_count": null,
   "metadata": {},
   "outputs": [],
   "source": [
    "# 本地報表輸出路徑\n",
    "REPORT_PATH = os.environ.get('report_path')"
   ]
  },
  {
   "cell_type": "markdown",
   "metadata": {},
   "source": [
    "## 外部資料讀取"
   ]
  },
  {
   "cell_type": "code",
   "execution_count": null,
   "metadata": {},
   "outputs": [],
   "source": [
    "# 讀取台股收盤價資訊\n",
    "close = data.get(\"price:收盤價\", save_to_storage=True)\n",
    "vol = data.get(\"price:成交股數\", save_to_storage=True)\n",
    "stock_info = data.get('company_basic_info', save_to_storage=True)\n",
    "pe_ratio = data.get('price_earning_ratio:本益比', save_to_storage=True)\n",
    "pb_ratio = data.get('price_earning_ratio:股價淨值比', save_to_storage=True)\n",
    "institutional_investors_foreign = data.get('institutional_investors_trading_summary:外陸資買賣超股數(不含外資自營商)', save_to_storage=True)\n",
    "institutional_investors_inv_trust = data.get('institutional_investors_trading_summary:投信買賣超股數', save_to_storage=True)\n",
    "institutional_investors_dealer = data.get('institutional_investors_trading_summary:自營商買賣超股數(避險)', save_to_storage=True)"
   ]
  },
  {
   "cell_type": "markdown",
   "metadata": {},
   "source": [
    "## 數據分析"
   ]
  },
  {
   "cell_type": "code",
   "execution_count": null,
   "metadata": {},
   "outputs": [],
   "source": [
    "stock_name = stock_info[['stock_id', '公司簡稱']]\n",
    "stock_name = stock_name.rename(columns={'stock_id': 'symbol'})"
   ]
  },
  {
   "cell_type": "code",
   "execution_count": null,
   "metadata": {},
   "outputs": [],
   "source": [
    "# stock_name"
   ]
  },
  {
   "cell_type": "code",
   "execution_count": null,
   "metadata": {},
   "outputs": [],
   "source": [
    "sma18 = close.average(18)\n",
    "sma50 = close.average(50)"
   ]
  },
  {
   "cell_type": "code",
   "execution_count": null,
   "metadata": {},
   "outputs": [],
   "source": [
    "# # 篩選連三漲\n",
    "# rise18_df = sma18.rise().sustain(3).tail(1)"
   ]
  },
  {
   "cell_type": "code",
   "execution_count": null,
   "metadata": {},
   "outputs": [],
   "source": [
    "# rise18_df"
   ]
  },
  {
   "cell_type": "code",
   "execution_count": null,
   "metadata": {},
   "outputs": [],
   "source": [
    "# 條件篩選\n",
    "df2 = sma18 > sma50\n",
    "\n",
    "today = date.today().strftime(\"%Y-%m-%d\")\n",
    "# today = \"2024-05-31\"\n",
    "# filtered_df2 = df2[df2.index == today]\n",
    "filtered_df2 = df2.tail(1)\n",
    "\n",
    "filtered_df2"
   ]
  },
  {
   "cell_type": "code",
   "execution_count": null,
   "metadata": {},
   "outputs": [],
   "source": [
    "filtered_symbols = filtered_df2.columns[filtered_df2.iloc[0].values].tolist()\n",
    "filtered_symbols"
   ]
  },
  {
   "cell_type": "code",
   "execution_count": null,
   "metadata": {},
   "outputs": [],
   "source": [
    "slowk, slowd = data.indicator(\n",
    "    \"STOCH\",\n",
    "    adjust_price=False,\n",
    "    resample=\"D\",\n",
    "    fastk_period=9,\n",
    "    slowk_period=3,\n",
    "    slowk_matype=0,\n",
    "    slowd_period=3,\n",
    "    slowd_matype=0,\n",
    "    save_to_storage=True,\n",
    ")"
   ]
  },
  {
   "cell_type": "code",
   "execution_count": null,
   "metadata": {},
   "outputs": [],
   "source": [
    "# 選股策略： 最近一個交易日，ＫＤ值低於２０且成交量大於５００張，本益比小於１６\n",
    "kd_low_df = (slowd < 20) & (slowk < 20) & (vol >= 500000) & (pe_ratio <= 16)\n",
    "kd_low_df = kd_low_df.tail(1)\n",
    "\n",
    "filtered_symbols = kd_low_df.columns[kd_low_df.iloc[0]].tolist()\n",
    "df_filtered_symbols = pd.DataFrame(filtered_symbols, columns=['symbol'])\n",
    "\n",
    "df_filtered_symbols"
   ]
  },
  {
   "cell_type": "code",
   "execution_count": null,
   "metadata": {},
   "outputs": [],
   "source": [
    "# Assuming you have a DataFrame called stock_name with columns stock_id and stock_name\n",
    "\n",
    "# Merge df_filtered_symbols with stock_name on stock_id\n",
    "merged_df = df_filtered_symbols.merge(stock_name, on='symbol')\n",
    "\n",
    "# Print the merged DataFrame\n",
    "print(merged_df)"
   ]
  },
  {
   "cell_type": "code",
   "execution_count": null,
   "metadata": {},
   "outputs": [],
   "source": [
    "# 取得篩選股票的本益比\n",
    "# Step 1: Extract symbols from merged_df\n",
    "symbols = merged_df['symbol'].tolist()\n",
    "\n",
    "# Step 2: Filter pe_ratio DataFrame using symbols\n",
    "filtered_pe_ratio = pe_ratio[symbols]\n",
    "\n",
    "# Step 3: Retrieve the latest value for each symbol\n",
    "latest_pe_ratio = filtered_pe_ratio.iloc[-1]\n",
    "\n",
    "# Print the latest pe_ratio values\n",
    "print(latest_pe_ratio)\n"
   ]
  },
  {
   "cell_type": "code",
   "execution_count": null,
   "metadata": {},
   "outputs": [],
   "source": [
    "df = pd.DataFrame(latest_pe_ratio).reset_index()\n",
    "df.columns = ['symbol', 'pe_ratio']\n",
    "\n",
    "# Merge df_filtered_symbols with stock_name on stock_id\n",
    "merged_df = merged_df.merge(df, on='symbol')\n",
    "merged_df.rename(\n",
    "    columns={\n",
    "        'symbol': '股票代號', \n",
    "        'pe_ratio': '本益比'\n",
    "    },\n",
    "    inplace=True\n",
    ")\n",
    "merged_df[\"web_link\"] = merged_df[\"股票代號\"].apply(lambda x: f\"https://www.wantgoo.com/stock/{x}/technical-chart\")\n",
    "merged_df[\"題材概念股\"] = merged_df[\"股票代號\"].apply(lambda x: tst.read_topic_stocks(x))\n",
    "\n",
    "merged_df"
   ]
  },
  {
   "cell_type": "markdown",
   "metadata": {},
   "source": [
    "## 輸出結果至Google sheet"
   ]
  },
  {
   "cell_type": "code",
   "execution_count": null,
   "metadata": {},
   "outputs": [],
   "source": [
    "# Google SpreadSheet 公用程式初始化\n",
    "gspread_mgr = gsm.GspreadManager()\n",
    "gspread_wb = gspread_mgr.get_spreadsheet(GSPERAD_SHEET_KEY)\n",
    "\n",
    "print(f\"更新Google 表單：{gspread_wb.title}，工作表：{OUTPUT_GSHEET_NAME}\")"
   ]
  },
  {
   "cell_type": "code",
   "execution_count": null,
   "metadata": {},
   "outputs": [],
   "source": [
    "# 刪除再重建工作表\n",
    "gspread_mgr.recreate_worksheet(GSPERAD_SHEET_KEY, OUTPUT_GSHEET_NAME)"
   ]
  },
  {
   "cell_type": "code",
   "execution_count": null,
   "metadata": {},
   "outputs": [],
   "source": [
    "# 更新工作表資料\n",
    "gspread_mgr.update_worksheet_values(\n",
    "    GSPERAD_SHEET_KEY, \n",
    "    OUTPUT_GSHEET_NAME, \n",
    "    [merged_df.columns.values.tolist()] + merged_df.values.tolist()\n",
    ")"
   ]
  },
  {
   "cell_type": "code",
   "execution_count": null,
   "metadata": {},
   "outputs": [],
   "source": [
    "# Update 報表更新日期資訊\n",
    "now_str = datetime.now().strftime(\"%Y-%m-%d %H:%M:%S\")\n",
    "\n",
    "# Update the cell with the current datetime\n",
    "info_sheet = gspread_mgr.get_worksheet(GSPERAD_SHEET_KEY, \"更新日誌\")\n",
    "info_sheet.update_cell(1, 2, now_str)"
   ]
  }
 ],
 "metadata": {
  "kernelspec": {
   "display_name": ".venv",
   "language": "python",
   "name": "python3"
  },
  "language_info": {
   "codemirror_mode": {
    "name": "ipython",
    "version": 3
   },
   "file_extension": ".py",
   "mimetype": "text/x-python",
   "name": "python",
   "nbconvert_exporter": "python",
   "pygments_lexer": "ipython3",
   "version": "3.12.3"
  }
 },
 "nbformat": 4,
 "nbformat_minor": 2
}
