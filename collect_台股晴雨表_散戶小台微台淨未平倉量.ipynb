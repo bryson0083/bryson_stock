{
 "cells": [
  {
   "cell_type": "markdown",
   "metadata": {},
   "source": [
    "# 散戶小台/微台淨未平倉抓取  \n",
    "* Open API 取得數據（限定當天） \n",
    "  https://openapi.taifex.com.tw/#/%E8%B3%87%E6%96%99%E6%9F%A5%E8%A9%A2API/get_MarketDataOfMajorInstitutionalTradersDetailsOfFuturesContractsBytheDate\n",
    "* 直接網頁查詢 [首頁 > 交易資訊 > 三大法人 > 查詢 > 區分各期貨契約 > 依日期](https://www.taifex.com.tw/cht/3/futContractsDate)\n",
    "* 多天資料下載 [交易資訊 > 三大法人 > 下載 > 區分各期貨契約 > 依日期](https://www.taifex.com.tw/cht/3/futContractsDateView)  \n",
    "* 把三大法人未平倉量相加即是"
   ]
  },
  {
   "cell_type": "code",
   "execution_count": 1,
   "metadata": {},
   "outputs": [],
   "source": [
    "import os\n",
    "import pandas as pd\n",
    "import requests\n",
    "import duckdb"
   ]
  },
  {
   "cell_type": "code",
   "execution_count": 2,
   "metadata": {},
   "outputs": [],
   "source": [
    "# 引用自建公用模組\n",
    "from proj_util_pkg.settings import ProjEnvSettings"
   ]
  },
  {
   "cell_type": "markdown",
   "metadata": {},
   "source": [
    "## 公用參數設定"
   ]
  },
  {
   "cell_type": "code",
   "execution_count": 3,
   "metadata": {},
   "outputs": [],
   "source": [
    "# 欄數全展開\n",
    "pd.set_option(\"display.max_columns\", None)"
   ]
  },
  {
   "cell_type": "code",
   "execution_count": 4,
   "metadata": {},
   "outputs": [],
   "source": [
    "# 新增偽裝成chrome瀏覽器的標頭\n",
    "headers = {\n",
    "    'User-Agent': 'Mozilla/5.0 (Windows NT 10.0; Win64; x64) AppleWebKit/537.36 (KHTML, like Gecko) Chrome/58.0.3029.110 Safari/537.3'\n",
    "}"
   ]
  },
  {
   "cell_type": "markdown",
   "metadata": {},
   "source": [
    "## 外部資料讀取  \n",
    "### 方法1: 透過期交所 open api  "
   ]
  },
  {
   "cell_type": "code",
   "execution_count": 5,
   "metadata": {},
   "outputs": [
    {
     "name": "stderr",
     "output_type": "stream",
     "text": [
      "/Users/bryson0083/projects/bryson_stock/.venv/lib/python3.12/site-packages/urllib3/connectionpool.py:1061: InsecureRequestWarning: Unverified HTTPS request is being made to host 'openapi.taifex.com.tw'. Adding certificate verification is strongly advised. See: https://urllib3.readthedocs.io/en/1.26.x/advanced-usage.html#ssl-warnings\n",
      "  warnings.warn(\n"
     ]
    }
   ],
   "source": [
    "# 取得散戶小台淨未平倉口數資料\n",
    "major_futures_contracts_by_date = requests.get(\n",
    "    \"https://openapi.taifex.com.tw/v1/MarketDataOfMajorInstitutionalTradersDetailsOfFuturesContractsBytheDate\", \n",
    "    verify=False,\n",
    "    headers=headers\n",
    ").json()"
   ]
  },
  {
   "cell_type": "code",
   "execution_count": 6,
   "metadata": {},
   "outputs": [
    {
     "name": "stdout",
     "output_type": "stream",
     "text": [
      "(45, 15)\n"
     ]
    },
    {
     "data": {
      "text/html": [
       "<div>\n",
       "<style scoped>\n",
       "    .dataframe tbody tr th:only-of-type {\n",
       "        vertical-align: middle;\n",
       "    }\n",
       "\n",
       "    .dataframe tbody tr th {\n",
       "        vertical-align: top;\n",
       "    }\n",
       "\n",
       "    .dataframe thead th {\n",
       "        text-align: right;\n",
       "    }\n",
       "</style>\n",
       "<table border=\"1\" class=\"dataframe\">\n",
       "  <thead>\n",
       "    <tr style=\"text-align: right;\">\n",
       "      <th></th>\n",
       "      <th>Date</th>\n",
       "      <th>OpenInterest(Net)</th>\n",
       "    </tr>\n",
       "  </thead>\n",
       "  <tbody>\n",
       "    <tr>\n",
       "      <th>0</th>\n",
       "      <td>2024-10-01</td>\n",
       "      <td>-4797</td>\n",
       "    </tr>\n",
       "  </tbody>\n",
       "</table>\n",
       "</div>"
      ],
      "text/plain": [
       "        Date  OpenInterest(Net)\n",
       "0 2024-10-01              -4797"
      ]
     },
     "execution_count": 6,
     "metadata": {},
     "output_type": "execute_result"
    }
   ],
   "source": [
    "# json 轉成 dataframe\n",
    "major_futures_contracts_by_date_df = pd.DataFrame(major_futures_contracts_by_date)\n",
    "print(major_futures_contracts_by_date_df.shape)\n",
    "\n",
    "# 篩選小型臺指期貨\n",
    "mjfut_df = major_futures_contracts_by_date_df[major_futures_contracts_by_date_df['ContractCode'] == '小型臺指期貨']\n",
    "mjfut_df = mjfut_df[[\"Date\", \"OpenInterest(Net)\"]]\n",
    "\n",
    "# 轉換OpenInterest(Net)為int, Date轉型date\n",
    "mjfut_df[\"OpenInterest(Net)\"] = mjfut_df[\"OpenInterest(Net)\"].astype(int)\n",
    "mjfut_df[\"Date\"] = pd.to_datetime(mjfut_df[\"Date\"])\n",
    "\n",
    "# mjfut_df group by date, sum OpenInterest(Net)\n",
    "mjfut_df_grouped = mjfut_df.groupby(\"Date\").agg({\"OpenInterest(Net)\": \"sum\"}).reset_index()\n",
    "mjfut_df_grouped"
   ]
  },
  {
   "cell_type": "code",
   "execution_count": 8,
   "metadata": {},
   "outputs": [
    {
     "data": {
      "text/plain": [
       "Timestamp('2024-10-01 00:00:00')"
      ]
     },
     "execution_count": 8,
     "metadata": {},
     "output_type": "execute_result"
    }
   ],
   "source": [
    "# 取得最後一筆交易日，作為方法2的查詢終止日條件\n",
    "last_txn_date = mjfut_df_grouped.tail(1)[\"Date\"].values[0]\n",
    "last_txn_date = pd.to_datetime(last_txn_date)\n",
    "\n",
    "last_txn_date"
   ]
  },
  {
   "cell_type": "markdown",
   "metadata": {},
   "source": [
    "### 方法2: 透過爬蟲方式下載期交所網站檔案取得數據"
   ]
  },
  {
   "cell_type": "code",
   "execution_count": 9,
   "metadata": {},
   "outputs": [
    {
     "data": {
      "text/plain": [
       "'futures_data.csv'"
      ]
     },
     "execution_count": 9,
     "metadata": {},
     "output_type": "execute_result"
    }
   ],
   "source": [
    "# 共用參數設定\n",
    "FUTURES_DATA_FILENAME = 'futures_data.csv'  # 輸出檔案名稱\n",
    "FUTURES_DATA_FILENAME"
   ]
  },
  {
   "cell_type": "code",
   "execution_count": 10,
   "metadata": {},
   "outputs": [],
   "source": [
    "def get_futures_data_from_taifex(input_txn_date, commodity_id):\n",
    "    \"\"\" 取得期交所三大法人未平倉量資料 \"\"\"\n",
    "\n",
    "    # 設定目標URL\n",
    "    url = 'https://www.taifex.com.tw/cht/3/futContractsDateDown'\n",
    "\n",
    "    # 瀏覽器的 headers，模擬從瀏覽器發送的請求\n",
    "    headers = {\n",
    "        'User-Agent': 'Mozilla/5.0 (Windows NT 10.0; Win64; x64) AppleWebKit/537.36 (KHTML, like Gecko) Chrome/85.0.4183.121 Safari/537.36',\n",
    "        'Accept': 'text/html,application/xhtml+xml,application/xml;q=0.9,image/webp,*/*;q=0.8',\n",
    "        'Accept-Language': 'en-US,en;q=0.5',\n",
    "        'Accept-Encoding': 'gzip, deflate, br',\n",
    "        'Connection': 'keep-alive',\n",
    "        'Upgrade-Insecure-Requests': '1',\n",
    "        'Referer': 'https://www.taifex.com.tw/cht/3/futContractsDate',\n",
    "        'Origin': 'https://www.taifex.com.tw'\n",
    "    }\n",
    "\n",
    "    # 設定POST的表單資料\n",
    "    # 手動指定日期區間範例\n",
    "    # form_data = {\n",
    "    #     'firstDate': '2021/09/20 00:00',\n",
    "    #     'lastDate': '2024/09/20 00:00',\n",
    "    #     'queryStartDate': '2024/09/01',\n",
    "    #     'queryEndDate': '2024/09/20',\n",
    "    #     'commodityId': 'MXF'\n",
    "    # }\n",
    "\n",
    "    input_month_1st = input_txn_date.replace(day=1).strftime(\"%Y/%m/%d\")\n",
    "    input_txndate_prev_3y = input_txn_date - pd.DateOffset(years=3)\n",
    "    input_txndate_prev_3y = input_txndate_prev_3y.strftime(\"%Y/%m/%d\")\n",
    "    form_data = {\n",
    "        'firstDate': f'{input_txndate_prev_3y} 00:00',\n",
    "        'lastDate': f'{input_txn_date.strftime(\"%Y/%m/%d\")} 00:00',\n",
    "        'queryStartDate': input_month_1st,\n",
    "        'queryEndDate': input_txn_date.strftime(\"%Y/%m/%d\"),\n",
    "        'commodityId': commodity_id\n",
    "    }\n",
    "    print(form_data)\n",
    "\n",
    "    # 發送POST請求，帶入 headers 和表單資料\n",
    "    response = requests.post(url, data=form_data, headers=headers)\n",
    "\n",
    "    # # 輸出檔案名稱\n",
    "    # filename = 'futures_data.csv'\n",
    "\n",
    "    # 確認請求是否成功\n",
    "    if response.status_code == 200:\n",
    "        # 將CSV檔案儲存到本地\n",
    "        with open(FUTURES_DATA_FILENAME, 'wb') as file:\n",
    "            file.write(response.content)\n",
    "        print(f'CSV檔案已成功下載並儲存為{FUTURES_DATA_FILENAME}')\n",
    "    else:\n",
    "        print(f'下載失敗，狀態碼: {response.status_code}')\n"
   ]
  },
  {
   "cell_type": "code",
   "execution_count": 11,
   "metadata": {},
   "outputs": [],
   "source": [
    "def _read_futures_data_from_taifex(commodity_name):\n",
    "    \"\"\" 讀取期交所三大法人未平倉量資料，並回傳group by後的df \"\"\"\n",
    "\n",
    "    # 讀取 CSV 檔案\n",
    "    major_futures_contracts_by_date_df = pd.read_csv(FUTURES_DATA_FILENAME, encoding='big5')\n",
    "    \n",
    "    # 篩選臺指期貨\n",
    "    mjfut_df = major_futures_contracts_by_date_df[[\"日期\", \"多空未平倉口數淨額\"]]\n",
    "\n",
    "    # 轉換'多空未平倉口數淨額'為int, '日期'轉型date\n",
    "    mjfut_df.loc[:, \"多空未平倉口數淨額\"] = mjfut_df[\"多空未平倉口數淨額\"].astype(int)\n",
    "    mjfut_df.loc[:,\"日期\"] = pd.to_datetime(mjfut_df[\"日期\"])\n",
    "    mjfut_df.columns = [\"Date\", commodity_name]\n",
    "    \n",
    "    # mjfut_df group by date, sum OpenInterest(Net)\n",
    "    mjfut_df_grouped = mjfut_df.groupby(\"Date\").agg({commodity_name: \"sum\"}).reset_index()\n",
    "    \n",
    "    return mjfut_df_grouped\n"
   ]
  },
  {
   "cell_type": "code",
   "execution_count": 12,
   "metadata": {},
   "outputs": [
    {
     "name": "stdout",
     "output_type": "stream",
     "text": [
      "{'firstDate': '2021/10/01 00:00', 'lastDate': '2024/10/01 00:00', 'queryStartDate': '2024/10/01', 'queryEndDate': '2024/10/01', 'commodityId': 'MXF'}\n",
      "CSV檔案已成功下載並儲存為futures_data.csv\n",
      "{'firstDate': '2021/10/01 00:00', 'lastDate': '2024/10/01 00:00', 'queryStartDate': '2024/10/01', 'queryEndDate': '2024/10/01', 'commodityId': 'TMF'}\n",
      "CSV檔案已成功下載並儲存為futures_data.csv\n",
      "        Date  散戶小台淨未平倉口數  散戶微台淨未平倉口數\n",
      "0 2024-10-01       -4797       -9650\n"
     ]
    }
   ],
   "source": [
    "# 設定淨未平倉量抓取目標資訊，以dict格式設定\n",
    "tw_futures_target_dict = {\n",
    "    \"MXF\": \"散戶小台淨未平倉口數\",\n",
    "    \"TMF\": \"散戶微台淨未平倉口數\"\n",
    "}\n",
    "\n",
    "futures_data_df = pd.DataFrame()\n",
    "# 跑迴圈，依據tw_futures_target_dict.items()的key, value，分別執行get_futures_data_from_taifex\n",
    "for commodity_id, commodity_name in tw_futures_target_dict.items():\n",
    "    get_futures_data_from_taifex(last_txn_date, commodity_id)\n",
    "    mjfut_df_grouped = _read_futures_data_from_taifex(commodity_name)\n",
    "    \n",
    "    # 合併數據到futures_data_df\n",
    "    if futures_data_df.empty:\n",
    "        futures_data_df = mjfut_df_grouped\n",
    "    else:\n",
    "        futures_data_df = pd.merge(futures_data_df, mjfut_df_grouped, on='Date', how='outer')\n",
    "    \n",
    "    # 刪除 CSV 檔案\n",
    "    os.remove(FUTURES_DATA_FILENAME)\n",
    "\n",
    "print(futures_data_df)"
   ]
  },
  {
   "cell_type": "markdown",
   "metadata": {},
   "source": [
    "## 資料留存ＤＢ"
   ]
  },
  {
   "cell_type": "code",
   "execution_count": 13,
   "metadata": {},
   "outputs": [],
   "source": [
    "# 設定資料庫路徑\n",
    "TWSTOCK_DATA_ROOT = os.environ.get(\"hist_data_path\")\n",
    "twstock_db_path = f\"{TWSTOCK_DATA_ROOT}/twstock.duckdb\""
   ]
  },
  {
   "cell_type": "code",
   "execution_count": 14,
   "metadata": {},
   "outputs": [],
   "source": [
    "# 連線資料庫\n",
    "conn_duckdb = duckdb.connect(twstock_db_path)"
   ]
  },
  {
   "cell_type": "code",
   "execution_count": 15,
   "metadata": {},
   "outputs": [],
   "source": [
    "table_name = \"tw_retail_investors_net_open_interest\""
   ]
  },
  {
   "cell_type": "code",
   "execution_count": 16,
   "metadata": {},
   "outputs": [
    {
     "name": "stderr",
     "output_type": "stream",
     "text": [
      "/var/folders/14/b8c6vz6n79n4wt12qny6djk40000gn/T/ipykernel_42437/4050385821.py:4: UserWarning: pandas only supports SQLAlchemy connectable (engine/connection) or database string URI or sqlite3 DBAPI2 connection. Other DBAPI2 objects are not tested. Please consider using SQLAlchemy.\n",
      "  futures_data_df.iloc[i:i+1].to_sql(table_name, conn_duckdb, if_exists=\"append\", index=False)\n"
     ]
    }
   ],
   "source": [
    "# 針對pc_ratio_df，以Date單筆先確認tw_pc_ratio表中，欄位Date沒有重複資料時，才進行單筆insert\n",
    "for i in range(len(futures_data_df)):\n",
    "    try:\n",
    "        futures_data_df.iloc[i:i+1].to_sql(table_name, conn_duckdb, if_exists=\"append\", index=False)\n",
    "    except Exception as e:\n",
    "        # print(e)\n",
    "        pass\n"
   ]
  },
  {
   "cell_type": "code",
   "execution_count": 17,
   "metadata": {},
   "outputs": [
    {
     "data": {
      "text/html": [
       "<div>\n",
       "<style scoped>\n",
       "    .dataframe tbody tr th:only-of-type {\n",
       "        vertical-align: middle;\n",
       "    }\n",
       "\n",
       "    .dataframe tbody tr th {\n",
       "        vertical-align: top;\n",
       "    }\n",
       "\n",
       "    .dataframe thead th {\n",
       "        text-align: right;\n",
       "    }\n",
       "</style>\n",
       "<table border=\"1\" class=\"dataframe\">\n",
       "  <thead>\n",
       "    <tr style=\"text-align: right;\">\n",
       "      <th></th>\n",
       "      <th>Date</th>\n",
       "      <th>散戶小台淨未平倉口數</th>\n",
       "      <th>散戶微台淨未平倉口數</th>\n",
       "    </tr>\n",
       "  </thead>\n",
       "  <tbody>\n",
       "    <tr>\n",
       "      <th>0</th>\n",
       "      <td>2024-10-01</td>\n",
       "      <td>-4797</td>\n",
       "      <td>-9650</td>\n",
       "    </tr>\n",
       "    <tr>\n",
       "      <th>1</th>\n",
       "      <td>2024-09-30</td>\n",
       "      <td>-6923</td>\n",
       "      <td>-13272</td>\n",
       "    </tr>\n",
       "    <tr>\n",
       "      <th>2</th>\n",
       "      <td>2024-09-27</td>\n",
       "      <td>-6445</td>\n",
       "      <td>-4239</td>\n",
       "    </tr>\n",
       "    <tr>\n",
       "      <th>3</th>\n",
       "      <td>2024-09-26</td>\n",
       "      <td>-3299</td>\n",
       "      <td>1647</td>\n",
       "    </tr>\n",
       "    <tr>\n",
       "      <th>4</th>\n",
       "      <td>2024-09-25</td>\n",
       "      <td>-755</td>\n",
       "      <td>3499</td>\n",
       "    </tr>\n",
       "    <tr>\n",
       "      <th>5</th>\n",
       "      <td>2024-09-24</td>\n",
       "      <td>-489</td>\n",
       "      <td>6152</td>\n",
       "    </tr>\n",
       "    <tr>\n",
       "      <th>6</th>\n",
       "      <td>2024-09-23</td>\n",
       "      <td>-7189</td>\n",
       "      <td>3665</td>\n",
       "    </tr>\n",
       "    <tr>\n",
       "      <th>7</th>\n",
       "      <td>2024-09-20</td>\n",
       "      <td>-4826</td>\n",
       "      <td>1942</td>\n",
       "    </tr>\n",
       "    <tr>\n",
       "      <th>8</th>\n",
       "      <td>2024-09-19</td>\n",
       "      <td>-5187</td>\n",
       "      <td>6236</td>\n",
       "    </tr>\n",
       "    <tr>\n",
       "      <th>9</th>\n",
       "      <td>2024-09-18</td>\n",
       "      <td>-7945</td>\n",
       "      <td>-3537</td>\n",
       "    </tr>\n",
       "    <tr>\n",
       "      <th>10</th>\n",
       "      <td>2024-09-16</td>\n",
       "      <td>-3743</td>\n",
       "      <td>-8584</td>\n",
       "    </tr>\n",
       "    <tr>\n",
       "      <th>11</th>\n",
       "      <td>2024-09-13</td>\n",
       "      <td>-3489</td>\n",
       "      <td>-6839</td>\n",
       "    </tr>\n",
       "    <tr>\n",
       "      <th>12</th>\n",
       "      <td>2024-09-12</td>\n",
       "      <td>-2322</td>\n",
       "      <td>-4179</td>\n",
       "    </tr>\n",
       "    <tr>\n",
       "      <th>13</th>\n",
       "      <td>2024-09-11</td>\n",
       "      <td>-6437</td>\n",
       "      <td>-16411</td>\n",
       "    </tr>\n",
       "    <tr>\n",
       "      <th>14</th>\n",
       "      <td>2024-09-10</td>\n",
       "      <td>-6251</td>\n",
       "      <td>-18339</td>\n",
       "    </tr>\n",
       "    <tr>\n",
       "      <th>15</th>\n",
       "      <td>2024-09-09</td>\n",
       "      <td>-6989</td>\n",
       "      <td>-14621</td>\n",
       "    </tr>\n",
       "    <tr>\n",
       "      <th>16</th>\n",
       "      <td>2024-09-06</td>\n",
       "      <td>-7709</td>\n",
       "      <td>-14879</td>\n",
       "    </tr>\n",
       "    <tr>\n",
       "      <th>17</th>\n",
       "      <td>2024-09-05</td>\n",
       "      <td>-5013</td>\n",
       "      <td>-18783</td>\n",
       "    </tr>\n",
       "    <tr>\n",
       "      <th>18</th>\n",
       "      <td>2024-09-04</td>\n",
       "      <td>-7296</td>\n",
       "      <td>-22580</td>\n",
       "    </tr>\n",
       "    <tr>\n",
       "      <th>19</th>\n",
       "      <td>2024-09-03</td>\n",
       "      <td>-12504</td>\n",
       "      <td>-22388</td>\n",
       "    </tr>\n",
       "    <tr>\n",
       "      <th>20</th>\n",
       "      <td>2024-09-02</td>\n",
       "      <td>-14318</td>\n",
       "      <td>-19207</td>\n",
       "    </tr>\n",
       "  </tbody>\n",
       "</table>\n",
       "</div>"
      ],
      "text/plain": [
       "         Date  散戶小台淨未平倉口數  散戶微台淨未平倉口數\n",
       "0  2024-10-01       -4797       -9650\n",
       "1  2024-09-30       -6923      -13272\n",
       "2  2024-09-27       -6445       -4239\n",
       "3  2024-09-26       -3299        1647\n",
       "4  2024-09-25        -755        3499\n",
       "5  2024-09-24        -489        6152\n",
       "6  2024-09-23       -7189        3665\n",
       "7  2024-09-20       -4826        1942\n",
       "8  2024-09-19       -5187        6236\n",
       "9  2024-09-18       -7945       -3537\n",
       "10 2024-09-16       -3743       -8584\n",
       "11 2024-09-13       -3489       -6839\n",
       "12 2024-09-12       -2322       -4179\n",
       "13 2024-09-11       -6437      -16411\n",
       "14 2024-09-10       -6251      -18339\n",
       "15 2024-09-09       -6989      -14621\n",
       "16 2024-09-06       -7709      -14879\n",
       "17 2024-09-05       -5013      -18783\n",
       "18 2024-09-04       -7296      -22580\n",
       "19 2024-09-03      -12504      -22388\n",
       "20 2024-09-02      -14318      -19207"
      ]
     },
     "execution_count": 17,
     "metadata": {},
     "output_type": "execute_result"
    }
   ],
   "source": [
    "# 查詢tw_pc_ratio表中所有資料\n",
    "conn_duckdb.execute(f\"SELECT * FROM {table_name} order by Date desc\").fetch_df()"
   ]
  },
  {
   "cell_type": "code",
   "execution_count": 18,
   "metadata": {},
   "outputs": [],
   "source": [
    "# 關閉資料庫連線\n",
    "conn_duckdb.close()"
   ]
  },
  {
   "cell_type": "code",
   "execution_count": null,
   "metadata": {},
   "outputs": [],
   "source": []
  }
 ],
 "metadata": {
  "kernelspec": {
   "display_name": ".venv",
   "language": "python",
   "name": "python3"
  },
  "language_info": {
   "codemirror_mode": {
    "name": "ipython",
    "version": 3
   },
   "file_extension": ".py",
   "mimetype": "text/x-python",
   "name": "python",
   "nbconvert_exporter": "python",
   "pygments_lexer": "ipython3",
   "version": "3.12.3"
  }
 },
 "nbformat": 4,
 "nbformat_minor": 2
}
