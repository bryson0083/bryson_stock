{
 "cells": [
  {
   "cell_type": "code",
   "execution_count": null,
   "metadata": {},
   "outputs": [],
   "source": [
    "import time\n",
    "import random\n",
    "import pandas as pd\n",
    "import requests\n",
    "from bs4 import BeautifulSoup"
   ]
  },
  {
   "cell_type": "code",
   "execution_count": null,
   "metadata": {},
   "outputs": [],
   "source": [
    "# 新增偽裝成chrome瀏覽器的標頭\n",
    "headers = {\n",
    "    'User-Agent': 'Mozilla/5.0 (Windows NT 10.0; Win64; x64) AppleWebKit/537.36 (KHTML, like Gecko) Chrome/58.0.3029.110 Safari/537.3'\n",
    "}"
   ]
  },
  {
   "cell_type": "code",
   "execution_count": null,
   "metadata": {},
   "outputs": [],
   "source": [
    "# 透過 requests 套件發送 HTTP GET 請求，訪問網址 https://www.moneydj.com/z/zg/zge/zge_E_E.djhtm\n",
    "response = requests.get(\"https://www.moneydj.com/z/zg/zge/zge_E_E.djhtm\", headers=headers)"
   ]
  },
  {
   "cell_type": "code",
   "execution_count": null,
   "metadata": {},
   "outputs": [],
   "source": [
    "# 使用bs4從網頁內容中取得select標籤的內容，其XPATH為 //*[@id=\"oHeadTitle\"]/select[1]\n",
    "soup = BeautifulSoup(response.text, \"html.parser\")\n",
    "select = soup.select(\"#oHeadTitle > select\")[0]\n",
    "\n",
    "# 取得所有的option標籤\n",
    "options = select.find_all(\"option\")\n",
    "\n",
    "# 逐一取得每個option標籤的value和text\n",
    "topic_list = []\n",
    "for option in options:\n",
    "    # print(option[\"value\"], option.text)\n",
    "    topic_list.append([option[\"value\"], option.text])\n"
   ]
  },
  {
   "cell_type": "code",
   "execution_count": null,
   "metadata": {},
   "outputs": [],
   "source": [
    "# 將存放股票題材的清單轉換成DataFrame\n",
    "topic_df = pd.DataFrame(topic_list, columns=[\"value\", \"text\"])\n",
    "print(topic_df.shape)\n",
    "topic_df.head(3) "
   ]
  },
  {
   "cell_type": "code",
   "execution_count": null,
   "metadata": {},
   "outputs": [],
   "source": [
    "def _read_topic_stocks(tar_html):\n",
    "    \"\"\" 讀取股票題材清單中的股票代號和名稱 \"\"\"\n",
    "\n",
    "    # 使用bs4從網頁內容中取得select標籤的內容，其XPATH為 //*[@id=\"oMainTable\"]/tbody\n",
    "    soup = BeautifulSoup(tar_html, \"html.parser\")\n",
    "\n",
    "    # 以id為oMainTable取得table標籤\n",
    "    table = soup.select(\"#oMainTable\")[0]\n",
    "\n",
    "    # 從第二個tr標籤開始取得\n",
    "    trs = table.find_all(\"tr\")[1:]\n",
    "\n",
    "    # 逐一取得每個tr標籤的td標籤\n",
    "    stock_list = []\n",
    "    for tr in trs:\n",
    "        # 逐一取得每個td標籤的內容\n",
    "        tds = tr.find_all(\"td\")\n",
    "        for td in tds:\n",
    "            # 第一個td標籤中有javasccript，讀取其script內容\n",
    "            if td.find(\"script\"):\n",
    "                # 取得GenLink2stk函數呼叫的參數\n",
    "                td_content = td.find(\"script\").text.split(\"'\")\n",
    "                stock_no = td_content[1][2:]\n",
    "                stock_name = td_content[3]\n",
    "                stock_list.append([stock_no, stock_name])\n",
    "    \n",
    "    if len(stock_list) > 0:\n",
    "        stock_df= pd.DataFrame(stock_list, columns=[\"stock_no\", \"stock_name\"])\n",
    "    else:\n",
    "        stock_df = pd.DataFrame([], columns=[\"stock_no\", \"stock_name\"])\n",
    "\n",
    "    return stock_df"
   ]
  },
  {
   "cell_type": "code",
   "execution_count": null,
   "metadata": {},
   "outputs": [],
   "source": [
    "# 將topic_df中的value欄位值，建立一個迴圈遍歷每一個值，並將其帶入url_template中的{topic}，組成新的url\n",
    "url_template = \"https://www.moneydj.com/z/zg/zge/zge_{topic}_1.djhtm\"\n",
    "tar_html = \"\"\n",
    "topic_stock_df = pd.DataFrame([], columns=[\"stock_no\", \"stock_name\", \"topic\"])\n",
    "for _, topic in topic_df.iterrows():\n",
    "    print(f\"topic_name: {topic['text']}\")\n",
    "    url = url_template.format(topic=topic[\"value\"])\n",
    "\n",
    "    # 透過 requests 套件發送 HTTP GET 請求，訪問網址 url\n",
    "    response = requests.get(url, headers=headers)\n",
    "    tar_html = response.text\n",
    "    tmp_topic_stock_df =_read_topic_stocks(tar_html)\n",
    "    if not tmp_topic_stock_df.empty:\n",
    "        tmp_topic_stock_df[\"topic\"] = topic[\"text\"]\n",
    "        topic_stock_df = pd.concat([topic_stock_df, tmp_topic_stock_df], ignore_index=True)\n",
    "\n",
    "    print(tmp_topic_stock_df)\n",
    "    print(\"\\n\\n\")\n",
    "\n",
    "    sleep_time = random.randint(1, 10)\n",
    "    print(f\"sleep_time: {sleep_time}\")\n",
    "    time.sleep(sleep_time)  # 隨機暫停1～10秒\n",
    "    # break"
   ]
  },
  {
   "cell_type": "code",
   "execution_count": null,
   "metadata": {},
   "outputs": [],
   "source": [
    "# 將topic_stock_df輸出EXCEL檔案\n",
    "topic_stock_df.to_excel(\"tw_stock_topics.xlsx\", index=False)"
   ]
  }
 ],
 "metadata": {
  "kernelspec": {
   "display_name": ".venv",
   "language": "python",
   "name": "python3"
  },
  "language_info": {
   "codemirror_mode": {
    "name": "ipython",
    "version": 3
   },
   "file_extension": ".py",
   "mimetype": "text/x-python",
   "name": "python",
   "nbconvert_exporter": "python",
   "pygments_lexer": "ipython3",
   "version": "3.12.3"
  }
 },
 "nbformat": 4,
 "nbformat_minor": 2
}
