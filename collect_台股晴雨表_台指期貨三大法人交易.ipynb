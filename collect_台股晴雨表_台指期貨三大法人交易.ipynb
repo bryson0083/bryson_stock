{
 "cells": [
  {
   "cell_type": "code",
   "execution_count": null,
   "metadata": {},
   "outputs": [],
   "source": [
    "import os\n",
    "from datetime import date\n",
    "from datetime import datetime\n",
    "\n",
    "import pandas as pd\n",
    "import duckdb\n"
   ]
  },
  {
   "cell_type": "code",
   "execution_count": null,
   "metadata": {},
   "outputs": [],
   "source": [
    "from finlab import data"
   ]
  },
  {
   "cell_type": "code",
   "execution_count": null,
   "metadata": {},
   "outputs": [],
   "source": [
    "# 引用自建公用模組\n",
    "from proj_util_pkg.settings import ProjEnvSettings\n",
    "from proj_util_pkg.finlab_api import finlab_manager as flm"
   ]
  },
  {
   "cell_type": "markdown",
   "metadata": {},
   "source": [
    "## 公用參數設定"
   ]
  },
  {
   "cell_type": "code",
   "execution_count": null,
   "metadata": {},
   "outputs": [],
   "source": [
    "# finlab api 服務初始化\n",
    "finlab = flm.FinlabManager()\n",
    "data.force_cloud_download = False"
   ]
  },
  {
   "cell_type": "code",
   "execution_count": null,
   "metadata": {},
   "outputs": [],
   "source": [
    "# 欄數全展開\n",
    "pd.set_option(\"display.max_columns\", None)"
   ]
  },
  {
   "cell_type": "markdown",
   "metadata": {},
   "source": [
    "## 外部資料讀取"
   ]
  },
  {
   "cell_type": "code",
   "execution_count": null,
   "metadata": {},
   "outputs": [],
   "source": [
    "# 讀取台股期貨三大法人交易資訊\n",
    "oi = data.get('futures_institutional_investors_trading_summary:空方未平倉口數', save_to_storage=True)\n",
    "net_oi = data.get('futures_institutional_investors_trading_summary:多空未平倉口數淨額', save_to_storage=True)"
   ]
  },
  {
   "cell_type": "code",
   "execution_count": null,
   "metadata": {},
   "outputs": [],
   "source": [
    "oi"
   ]
  },
  {
   "cell_type": "code",
   "execution_count": null,
   "metadata": {},
   "outputs": [],
   "source": [
    "# 達人秀忠哥常用四項整體指標 ～ 外資未平倉口數\n",
    "tw_net_oi_df = net_oi[[\n",
    "    \"臺股期貨_外資及陸資\", \"臺股期貨_投信\", \"臺股期貨_自營商\",  # 大台指\n",
    "    \"小型臺指期貨_外資及陸資\", \"小型臺指期貨_投信\", \"小型臺指期貨_自營商\",  # 小台指\n",
    "    \"金融期貨_外資及陸資\", \"金融期貨_投信\", \"金融期貨_自營商\",  # 金融期貨\n",
    "    \"電子期貨_外資及陸資\", \"電子期貨_投信\", \"電子期貨_自營商\",  # 電子期貨\n",
    "]].fillna(0).reset_index()"
   ]
  },
  {
   "cell_type": "code",
   "execution_count": null,
   "metadata": {},
   "outputs": [],
   "source": [
    "# tw_net_oi_df欄位名稱重新命名使用rename，臺股期貨_外資及陸資 -> 臺股期貨_外資\n",
    "tw_net_oi_df.rename(columns={\n",
    "    \"date\": \"Date\",\n",
    "    \"臺股期貨_外資及陸資\": \"臺股期貨_外資\",\n",
    "    \"小型臺指期貨_外資及陸資\": \"小型臺指期貨_外資\",\n",
    "    \"金融期貨_外資及陸資\": \"金融期貨_外資\",\n",
    "    \"電子期貨_外資及陸資\": \"電子期貨_外資\",\n",
    "}, inplace=True)\n",
    "\n",
    "tw_net_oi_df = tw_net_oi_df.tail(60)"
   ]
  },
  {
   "cell_type": "markdown",
   "metadata": {},
   "source": [
    "## 資料留存ＤＢ"
   ]
  },
  {
   "cell_type": "code",
   "execution_count": null,
   "metadata": {},
   "outputs": [],
   "source": [
    "# 設定資料庫路徑\n",
    "TWSTOCK_DATA_ROOT = os.environ.get(\"hist_data_path\")\n",
    "twstock_db_path = f\"{TWSTOCK_DATA_ROOT}/twstock.duckdb\"\n",
    "twstock_db_path"
   ]
  },
  {
   "cell_type": "code",
   "execution_count": null,
   "metadata": {},
   "outputs": [],
   "source": [
    "# 連線資料庫\n",
    "conn_duckdb = duckdb.connect(twstock_db_path)"
   ]
  },
  {
   "cell_type": "code",
   "execution_count": null,
   "metadata": {},
   "outputs": [],
   "source": [
    "table_name = \"tw_futures_institutional_investors_trading_summary\""
   ]
  },
  {
   "cell_type": "code",
   "execution_count": null,
   "metadata": {},
   "outputs": [],
   "source": [
    "# # 檔案整批寫入資料庫\n",
    "# tw_net_oi_df.to_sql(table_name, conn_duckdb, if_exists=\"append\", index=False)"
   ]
  },
  {
   "cell_type": "code",
   "execution_count": null,
   "metadata": {},
   "outputs": [],
   "source": [
    "# 針對tw_net_oi_df，以Date單筆先確認表中，欄位Date沒有重複資料時，才進行單筆insert\n",
    "# 篩選出最後60筆資料做更新即可\n",
    "for i in range(len(tw_net_oi_df)):\n",
    "    try:\n",
    "        tw_net_oi_df.iloc[i:i+1].to_sql(table_name, conn_duckdb, if_exists=\"append\", index=False)\n",
    "    except Exception as e:\n",
    "        # print(e)\n",
    "        pass"
   ]
  },
  {
   "cell_type": "code",
   "execution_count": null,
   "metadata": {},
   "outputs": [],
   "source": [
    "# 確認寫入結果\n",
    "conn_duckdb.execute(f\"SELECT * FROM {table_name} order by Date desc\").fetch_df()"
   ]
  },
  {
   "cell_type": "code",
   "execution_count": null,
   "metadata": {},
   "outputs": [],
   "source": [
    "# 關閉資料庫連線\n",
    "conn_duckdb.close()"
   ]
  },
  {
   "cell_type": "code",
   "execution_count": null,
   "metadata": {},
   "outputs": [],
   "source": [
    "# # 查詢dataframe columns 開頭為 WTE 的資料\n",
    "# # TE代表電子期貨\n",
    "# future_price_close.filter(regex='^TE', axis=1)"
   ]
  },
  {
   "cell_type": "code",
   "execution_count": null,
   "metadata": {},
   "outputs": [],
   "source": [
    "# # TF代表金融期貨\n",
    "# future_price_close.filter(regex='^TF', axis=1)"
   ]
  },
  {
   "cell_type": "code",
   "execution_count": null,
   "metadata": {},
   "outputs": [],
   "source": [
    "# # 未平倉契約數\n",
    "# # future_price_oi.filter(regex='^TF', axis=1)\n",
    "# future_price_oi"
   ]
  },
  {
   "cell_type": "code",
   "execution_count": null,
   "metadata": {},
   "outputs": [],
   "source": [
    "# future_txn_df = pd.read_csv(\"Daily_2024_08_16.csv\", dtype=str, encoding=\"big5\")\n",
    "# future_txn_df"
   ]
  },
  {
   "cell_type": "code",
   "execution_count": null,
   "metadata": {},
   "outputs": [],
   "source": [
    "# future_txn_df.query('商品代號 == \"BRF\"')"
   ]
  },
  {
   "cell_type": "code",
   "execution_count": null,
   "metadata": {},
   "outputs": [],
   "source": [
    "# future_txn_df[\"商品代號\"] = future_txn_df[\"商品代號\"].str.strip()\n",
    "# future_txn_df[\"到期月份(週別)\"] = future_txn_df[\"到期月份(週別)\"].str.strip()\n",
    "# # future_txn_df[\"商品代號\"].unique()"
   ]
  },
  {
   "cell_type": "code",
   "execution_count": null,
   "metadata": {},
   "outputs": [],
   "source": [
    "# te_df = future_txn_df[\n",
    "#     (future_txn_df[\"商品代號\"] == \"TE\") & (future_txn_df[\"到期月份(週別)\"].str.contains(\"202408\"))\n",
    "# ]"
   ]
  },
  {
   "cell_type": "code",
   "execution_count": null,
   "metadata": {},
   "outputs": [],
   "source": [
    "# future_txn_df[\"到期月份(週別)\"].unique()"
   ]
  },
  {
   "cell_type": "code",
   "execution_count": null,
   "metadata": {},
   "outputs": [],
   "source": [
    "# k_df = te_df[\n",
    "#     (te_df[\"成交時間\"] >= \"124500\") & (te_df[\"成交時間\"] <= \"134500\") & (te_df[\"成交價格\"] > \"0\")\n",
    "# ].sort_values(\"成交時間\")\n",
    "# k_df"
   ]
  },
  {
   "cell_type": "code",
   "execution_count": null,
   "metadata": {},
   "outputs": [],
   "source": [
    "# k_df.成交價格.min()"
   ]
  },
  {
   "cell_type": "code",
   "execution_count": null,
   "metadata": {},
   "outputs": [],
   "source": []
  }
 ],
 "metadata": {
  "kernelspec": {
   "display_name": ".venv",
   "language": "python",
   "name": "python3"
  },
  "language_info": {
   "codemirror_mode": {
    "name": "ipython",
    "version": 3
   },
   "file_extension": ".py",
   "mimetype": "text/x-python",
   "name": "python",
   "nbconvert_exporter": "python",
   "pygments_lexer": "ipython3",
   "version": "3.12.3"
  }
 },
 "nbformat": 4,
 "nbformat_minor": 2
}
