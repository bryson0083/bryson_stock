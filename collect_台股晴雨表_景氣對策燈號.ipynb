{
 "cells": [
  {
   "cell_type": "markdown",
   "metadata": {},
   "source": [
    "# 國發會 - 景氣指標及燈號  \n",
    "* [國發會 - 景氣指標查詢系統](https://index.ndc.gov.tw/n/zh_tw)  \n",
    "* [政府資料開放平臺 - ZIP格式](https://data.gov.tw/dataset/6099)  \n",
    "* [台灣-景氣對策信號vs.台股_財經Ｍ平方](https://www.macromicro.me/collections/10/tw-monitoring-indicators-relative/90/tw-light-stock)  "
   ]
  },
  {
   "cell_type": "code",
   "execution_count": null,
   "metadata": {},
   "outputs": [],
   "source": [
    "import os\n",
    "from datetime import date\n",
    "from datetime import datetime\n",
    "import shutil\n",
    "import requests\n",
    "import pandas as pd\n",
    "import duckdb\n",
    "import zipfile"
   ]
  },
  {
   "cell_type": "code",
   "execution_count": null,
   "metadata": {},
   "outputs": [],
   "source": [
    "# 引用自建公用模組\n",
    "from proj_util_pkg.settings import ProjEnvSettings"
   ]
  },
  {
   "cell_type": "markdown",
   "metadata": {},
   "source": [
    "## 公用參數設定"
   ]
  },
  {
   "cell_type": "code",
   "execution_count": null,
   "metadata": {},
   "outputs": [],
   "source": [
    "DOWNLOAD_FOLDER = os.environ.get('download_path')\n",
    "DOWNLOAD_FOLDER"
   ]
  },
  {
   "cell_type": "markdown",
   "metadata": {},
   "source": [
    "## 外部資料讀取"
   ]
  },
  {
   "cell_type": "code",
   "execution_count": null,
   "metadata": {},
   "outputs": [],
   "source": [
    "# 透過網址下載資料來源zip檔\n",
    "data_url = \"https://ws.ndc.gov.tw/Download.ashx?u=LzAwMS9hZG1pbmlzdHJhdG9yLzEwL3JlbGZpbGUvNTc4MS82MzkyL2VhMjM1YmQ5LWQwNTItNGE2OS1hYmZjLWQ1Yzc4NWQzZDBlMi56aXA%3d&n=5pmv5rCj5oyH5qiZ5Y%2bK54eI6JmfLnppcA%3d%3d&icon=.zip\"\n",
    "\n",
    "# 設定下載檔案存放路徑\n",
    "data_path = os.path.join(DOWNLOAD_FOLDER, \"tw_stock.zip\")\n",
    "\n",
    "# 透過Requests下載資料來源zip檔\n",
    "response = requests.get(data_url)\n",
    "with open(data_path, 'wb') as f:\n",
    "    f.write(response.content)\n",
    "\n",
    "# 解壓縮下載的zip檔\n",
    "with zipfile.ZipFile(data_path, 'r') as zip_ref:\n",
    "    zip_ref.extractall(DOWNLOAD_FOLDER)"
   ]
  },
  {
   "cell_type": "code",
   "execution_count": null,
   "metadata": {},
   "outputs": [],
   "source": [
    "# 讀取景氣燈號資料\n",
    "rep_path = os.path.join(DOWNLOAD_FOLDER, \"景氣指標與燈號.csv\")\n",
    "indicator_df = pd.read_csv(rep_path, encoding='utf-8', dtype=str)\n",
    "indicator_df"
   ]
  },
  {
   "cell_type": "code",
   "execution_count": null,
   "metadata": {},
   "outputs": [],
   "source": [
    "# 讀取景氣信號構成項目資料\n",
    "rep_path = os.path.join(DOWNLOAD_FOLDER, \"景氣對策信號構成項目.csv\")\n",
    "indicator_items_df = pd.read_csv(rep_path, encoding='utf-8', dtype=str)\n",
    "indicator_items_df"
   ]
  },
  {
   "cell_type": "markdown",
   "metadata": {},
   "source": [
    "## 資料留存ＤＢ"
   ]
  },
  {
   "cell_type": "code",
   "execution_count": null,
   "metadata": {},
   "outputs": [],
   "source": [
    "# 設定資料庫路徑\n",
    "TWSTOCK_DATA_ROOT = os.environ.get(\"hist_data_path\")\n",
    "twstock_db_path = f\"{TWSTOCK_DATA_ROOT}/twstock.duckdb\""
   ]
  },
  {
   "cell_type": "code",
   "execution_count": null,
   "metadata": {},
   "outputs": [],
   "source": [
    "# 連線資料庫\n",
    "conn_duckdb = duckdb.connect(twstock_db_path)"
   ]
  },
  {
   "cell_type": "markdown",
   "metadata": {},
   "source": [
    "### 景氣燈號資料留存"
   ]
  },
  {
   "cell_type": "code",
   "execution_count": null,
   "metadata": {},
   "outputs": [],
   "source": [
    "table_name = \"tw_business_indicators\""
   ]
  },
  {
   "cell_type": "code",
   "execution_count": null,
   "metadata": {},
   "outputs": [],
   "source": [
    "# 檔案整批寫入資料庫\n",
    "# indicator_df.to_sql(table_name, conn_duckdb, if_exists=\"append\", index=False)"
   ]
  },
  {
   "cell_type": "code",
   "execution_count": null,
   "metadata": {},
   "outputs": [],
   "source": [
    "# 針對indicator_df，以Date單筆先確認tw_business_indicators表中，欄位Date沒有重複資料時，才進行單筆insert\n",
    "for i in range(len(indicator_df)):\n",
    "    try:\n",
    "        indicator_df.iloc[i:i+1].to_sql(table_name, conn_duckdb, if_exists=\"append\", index=False)\n",
    "    except Exception as e:\n",
    "        # print(e)\n",
    "        pass\n"
   ]
  },
  {
   "cell_type": "code",
   "execution_count": null,
   "metadata": {},
   "outputs": [],
   "source": [
    "# 確認寫入結果\n",
    "conn_duckdb.execute(f\"SELECT * FROM {table_name} order by Date desc\").fetch_df()"
   ]
  },
  {
   "cell_type": "markdown",
   "metadata": {},
   "source": [
    "### 景氣信號構成項目資料"
   ]
  },
  {
   "cell_type": "code",
   "execution_count": null,
   "metadata": {},
   "outputs": [],
   "source": [
    "table_name = \"tw_business_indicators_items\""
   ]
  },
  {
   "cell_type": "code",
   "execution_count": null,
   "metadata": {},
   "outputs": [],
   "source": [
    "# 檔案整批寫入資料庫\n",
    "# indicator_items_df.to_sql(table_name, conn_duckdb, if_exists=\"append\", index=False)"
   ]
  },
  {
   "cell_type": "code",
   "execution_count": null,
   "metadata": {},
   "outputs": [],
   "source": [
    "# 針對 indicator_items_df ，以Date單筆先確認 tw_business_indicators_items 表中，欄位Date沒有重複資料時，才進行單筆insert\n",
    "for i in range(len(indicator_items_df)):\n",
    "    try:\n",
    "        indicator_items_df.iloc[i:i+1].to_sql(table_name, conn_duckdb, if_exists=\"append\", index=False)\n",
    "    except Exception as e:\n",
    "        # print(e)\n",
    "        pass\n"
   ]
  },
  {
   "cell_type": "code",
   "execution_count": null,
   "metadata": {},
   "outputs": [],
   "source": [
    "# 確認寫入結果\n",
    "conn_duckdb.execute(f\"SELECT * FROM {table_name} order by Date desc\").fetch_df()"
   ]
  },
  {
   "cell_type": "code",
   "execution_count": null,
   "metadata": {},
   "outputs": [],
   "source": [
    "# 關閉資料庫連線\n",
    "conn_duckdb.close()"
   ]
  },
  {
   "cell_type": "markdown",
   "metadata": {},
   "source": [
    "## 刪除下載暫存檔案"
   ]
  },
  {
   "cell_type": "code",
   "execution_count": null,
   "metadata": {},
   "outputs": [],
   "source": [
    "def delete_all_files_in_directory(directory_path):\n",
    "    # 確認目錄是否存在\n",
    "    if os.path.exists(directory_path) and os.path.isdir(directory_path):\n",
    "        # 列出目錄中的所有檔案\n",
    "        for filename in os.listdir(directory_path):\n",
    "            file_path = os.path.join(directory_path, filename)\n",
    "            try:\n",
    "                # 檢查是否是檔案然後刪除\n",
    "                if os.path.isfile(file_path) or os.path.islink(file_path):\n",
    "                    os.unlink(file_path)\n",
    "                # 如果是目錄，可以用shutil.rmtree刪除\n",
    "                elif os.path.isdir(file_path):\n",
    "                    shutil.rmtree(file_path)\n",
    "            except Exception as e:\n",
    "                print(f'Failed to delete {file_path}. Reason: {e}')\n",
    "        print(f\"All files in directory '{directory_path}' have been deleted.\")\n",
    "    else:\n",
    "        print(f\"The directory '{directory_path}' does not exist or is not a directory.\")\n"
   ]
  },
  {
   "cell_type": "code",
   "execution_count": null,
   "metadata": {},
   "outputs": [],
   "source": [
    "# 刪除temp目錄下所有檔案\n",
    "delete_all_files_in_directory(DOWNLOAD_FOLDER)"
   ]
  },
  {
   "cell_type": "code",
   "execution_count": null,
   "metadata": {},
   "outputs": [],
   "source": []
  }
 ],
 "metadata": {
  "kernelspec": {
   "display_name": ".venv",
   "language": "python",
   "name": "python3"
  },
  "language_info": {
   "codemirror_mode": {
    "name": "ipython",
    "version": 3
   },
   "file_extension": ".py",
   "mimetype": "text/x-python",
   "name": "python",
   "nbconvert_exporter": "python",
   "pygments_lexer": "ipython3",
   "version": "3.12.3"
  }
 },
 "nbformat": 4,
 "nbformat_minor": 2
}
