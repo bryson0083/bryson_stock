{
 "cells": [
  {
   "cell_type": "markdown",
   "metadata": {},
   "source": [
    "# 自營商選擇權  \n",
    "* 方法1: 透過openapi取得資訊  \n",
    "> [三大法人-選擇權買賣權分計-依日期](https://www.taifex.com.tw/cht/3/callsAndPutsDateView)  \n",
    "* 方法2: 透過期交所網站下載資料進行更新  \n",
    "> 首頁 > 交易資訊 > 三大法人 > 下載 > 選擇權買賣權分計 > 依日期  \n",
    "> [選擇權買賣權分計_依日期下載](https://www.taifex.com.tw/cht/3/callsAndPutsDateDown)\n"
   ]
  },
  {
   "cell_type": "code",
   "execution_count": 1,
   "metadata": {},
   "outputs": [],
   "source": [
    "import os\n",
    "from datetime import date\n",
    "from datetime import datetime\n",
    "import shutil\n",
    "import requests\n",
    "import pandas as pd\n",
    "import duckdb\n",
    "import zipfile"
   ]
  },
  {
   "cell_type": "code",
   "execution_count": 2,
   "metadata": {},
   "outputs": [],
   "source": [
    "# 引用自建公用模組\n",
    "from proj_util_pkg.settings import ProjEnvSettings"
   ]
  },
  {
   "cell_type": "markdown",
   "metadata": {},
   "source": [
    "## 公用參數設定"
   ]
  },
  {
   "cell_type": "code",
   "execution_count": 3,
   "metadata": {},
   "outputs": [],
   "source": [
    "# 欄數全展開\n",
    "pd.set_option(\"display.max_columns\", None)"
   ]
  },
  {
   "cell_type": "code",
   "execution_count": 4,
   "metadata": {},
   "outputs": [],
   "source": [
    "# 新增偽裝成chrome瀏覽器的標頭\n",
    "headers = {\n",
    "    'User-Agent': 'Mozilla/5.0 (Windows NT 10.0; Win64; x64) AppleWebKit/537.36 (KHTML, like Gecko) Chrome/58.0.3029.110 Safari/537.3'\n",
    "}"
   ]
  },
  {
   "cell_type": "markdown",
   "metadata": {},
   "source": [
    "## 外部資料讀取  \n",
    "### 方法1: 透過期交所 open api 取得最近一個交易日數據  "
   ]
  },
  {
   "cell_type": "code",
   "execution_count": null,
   "metadata": {},
   "outputs": [],
   "source": [
    "# 取得三大法人-選擇權買賣權分計-依日期\n",
    "mj_institutional_trader = requests.get(\n",
    "    \"https://openapi.taifex.com.tw/v1/MarketDataOfMajorInstitutionalTradersDetailsOfCallsAndPutsBytheDate\", \n",
    "    verify=False,\n",
    "    headers=headers\n",
    ").json()\n",
    "print(mj_institutional_trader)"
   ]
  },
  {
   "cell_type": "code",
   "execution_count": 6,
   "metadata": {},
   "outputs": [
    {
     "name": "stdout",
     "output_type": "stream",
     "text": [
      "(30, 16)\n"
     ]
    }
   ],
   "source": [
    "# json 轉成 dataframe\n",
    "mj_institutional_trader_df = pd.DataFrame(mj_institutional_trader)\n",
    "print(mj_institutional_trader_df.shape)\n",
    "# mj_institutional_trader_df"
   ]
  },
  {
   "cell_type": "code",
   "execution_count": 7,
   "metadata": {},
   "outputs": [
    {
     "data": {
      "text/plain": [
       "Timestamp('2024-10-04 00:00:00')"
      ]
     },
     "execution_count": 7,
     "metadata": {},
     "output_type": "execute_result"
    }
   ],
   "source": [
    "# 取得最後一筆交易日，作為方法2的查詢終止日條件\n",
    "last_txn_date = mj_institutional_trader_df.tail(1)[\"Date\"].values[0]\n",
    "last_txn_date = pd.to_datetime(last_txn_date)\n",
    "\n",
    "last_txn_date"
   ]
  },
  {
   "cell_type": "markdown",
   "metadata": {},
   "source": [
    "### 方法2: 透過期交所網站下載資料進行更新  "
   ]
  },
  {
   "cell_type": "code",
   "execution_count": 22,
   "metadata": {},
   "outputs": [
    {
     "name": "stdout",
     "output_type": "stream",
     "text": [
      "2021/10/04 00:00 ~ 2024/10/04 00:00\n"
     ]
    },
    {
     "data": {
      "text/plain": [
       "'2024/09/04 ~ 2024/10/04 00:00'"
      ]
     },
     "execution_count": 22,
     "metadata": {},
     "output_type": "execute_result"
    }
   ],
   "source": [
    "# 日期參數設定\n",
    "query_first_date = (last_txn_date - pd.DateOffset(years=3)).strftime(\"%Y/%m/%d %H:%M\")\n",
    "query_last_date = last_txn_date.strftime(\"%Y/%m/%d %H:%M\")\n",
    "print(f\"{query_first_date} ~ {query_last_date}\")\n",
    "\n",
    "# input_date = \"2024/08/05\"  # 保留作為手動指定日期\n",
    "input_date = query_last_date  # 預設指定最近一個交易日期\n",
    "\n",
    "end_date = pd.to_datetime(input_date)\n",
    "last_month = (end_date - pd.DateOffset(days=30)).strftime(\"%Y/%m/%d\")\n",
    "\n",
    "f\"{last_month} ~ {input_date}\""
   ]
  },
  {
   "cell_type": "code",
   "execution_count": 23,
   "metadata": {},
   "outputs": [
    {
     "name": "stdout",
     "output_type": "stream",
     "text": [
      "{'firstDate': '2021/10/04 00:00', 'lastDate': '2024/10/04 00:00', 'queryStartDate': '2024/09/04', 'queryEndDate': '2024/10/04 00:00', 'commodityId': 'TXO'}\n",
      "CSV文件已成功下載並保存為mj_institutional_trader.csv\n"
     ]
    },
    {
     "name": "stderr",
     "output_type": "stream",
     "text": [
      "/Users/bryson0083/projects/bryson_stock/.venv/lib/python3.12/site-packages/urllib3/connectionpool.py:1061: InsecureRequestWarning: Unverified HTTPS request is being made to host 'www.taifex.com.tw'. Adding certificate verification is strongly advised. See: https://urllib3.readthedocs.io/en/1.26.x/advanced-usage.html#ssl-warnings\n",
      "  warnings.warn(\n"
     ]
    }
   ],
   "source": [
    "# 設置請求的URL\n",
    "url = \"https://www.taifex.com.tw/cht/3/callsAndPutsDateDown\"\n",
    "\n",
    "# 設置請求的payload\n",
    "# payload = {\n",
    "#     \"firstDate\": \"2021/10/04 00:00\",\n",
    "#     \"lastDate\": \"2024/10/04 00:00\",\n",
    "#     \"queryStartDate\": \"2024/10/04\",\n",
    "#     \"queryEndDate\": \"2024/10/04\",\n",
    "#     \"commodityId\": \"TXO\"\n",
    "# }\n",
    "payload = {\n",
    "    \"firstDate\": query_first_date,\n",
    "    \"lastDate\": query_last_date,\n",
    "    \"queryStartDate\": last_month,\n",
    "    \"queryEndDate\": input_date,\n",
    "    \"commodityId\": \"TXO\"\n",
    "}\n",
    "print(payload)\n",
    "\n",
    "# 發送POST請求\n",
    "response = requests.post(url, headers=headers, data=payload, verify=False)\n",
    "\n",
    "# 檢查請求是否成功\n",
    "if response.status_code == 200:\n",
    "    # 將回應內容保存為CSV文件\n",
    "    with open(\"mj_institutional_trader.csv\", \"wb\") as file:\n",
    "        file.write(response.content)\n",
    "    print(\"CSV文件已成功下載並保存為mj_institutional_trader.csv\")\n",
    "\n",
    "    df = pd.read_csv('mj_institutional_trader.csv', encoding='big5')\n",
    "    df.loc[:,\"日期\"] = pd.to_datetime(df[\"日期\"])\n",
    "    # print(df)\n",
    "\n",
    "    os.remove(\"mj_institutional_trader.csv\")\n",
    "else:\n",
    "    print(f\"請求失敗，狀態碼：{response.status_code}\")"
   ]
  },
  {
   "cell_type": "code",
   "execution_count": 26,
   "metadata": {},
   "outputs": [
    {
     "data": {
      "text/html": [
       "<div>\n",
       "<style scoped>\n",
       "    .dataframe tbody tr th:only-of-type {\n",
       "        vertical-align: middle;\n",
       "    }\n",
       "\n",
       "    .dataframe tbody tr th {\n",
       "        vertical-align: top;\n",
       "    }\n",
       "\n",
       "    .dataframe thead th {\n",
       "        text-align: right;\n",
       "    }\n",
       "</style>\n",
       "<table border=\"1\" class=\"dataframe\">\n",
       "  <thead>\n",
       "    <tr style=\"text-align: right;\">\n",
       "      <th></th>\n",
       "      <th>Date</th>\n",
       "      <th>net_oi</th>\n",
       "    </tr>\n",
       "  </thead>\n",
       "  <tbody>\n",
       "    <tr>\n",
       "      <th>0</th>\n",
       "      <td>2024-09-04</td>\n",
       "      <td>-13701</td>\n",
       "    </tr>\n",
       "    <tr>\n",
       "      <th>1</th>\n",
       "      <td>2024-09-05</td>\n",
       "      <td>-6748</td>\n",
       "    </tr>\n",
       "    <tr>\n",
       "      <th>2</th>\n",
       "      <td>2024-09-06</td>\n",
       "      <td>-8728</td>\n",
       "    </tr>\n",
       "    <tr>\n",
       "      <th>3</th>\n",
       "      <td>2024-09-09</td>\n",
       "      <td>-1162</td>\n",
       "    </tr>\n",
       "    <tr>\n",
       "      <th>4</th>\n",
       "      <td>2024-09-10</td>\n",
       "      <td>-3729</td>\n",
       "    </tr>\n",
       "    <tr>\n",
       "      <th>5</th>\n",
       "      <td>2024-09-11</td>\n",
       "      <td>-16668</td>\n",
       "    </tr>\n",
       "    <tr>\n",
       "      <th>6</th>\n",
       "      <td>2024-09-12</td>\n",
       "      <td>-13185</td>\n",
       "    </tr>\n",
       "    <tr>\n",
       "      <th>7</th>\n",
       "      <td>2024-09-13</td>\n",
       "      <td>-12756</td>\n",
       "    </tr>\n",
       "    <tr>\n",
       "      <th>8</th>\n",
       "      <td>2024-09-16</td>\n",
       "      <td>-22531</td>\n",
       "    </tr>\n",
       "    <tr>\n",
       "      <th>9</th>\n",
       "      <td>2024-09-18</td>\n",
       "      <td>-7109</td>\n",
       "    </tr>\n",
       "    <tr>\n",
       "      <th>10</th>\n",
       "      <td>2024-09-19</td>\n",
       "      <td>5491</td>\n",
       "    </tr>\n",
       "    <tr>\n",
       "      <th>11</th>\n",
       "      <td>2024-09-20</td>\n",
       "      <td>-1026</td>\n",
       "    </tr>\n",
       "    <tr>\n",
       "      <th>12</th>\n",
       "      <td>2024-09-23</td>\n",
       "      <td>-5153</td>\n",
       "    </tr>\n",
       "    <tr>\n",
       "      <th>13</th>\n",
       "      <td>2024-09-24</td>\n",
       "      <td>-9907</td>\n",
       "    </tr>\n",
       "    <tr>\n",
       "      <th>14</th>\n",
       "      <td>2024-09-25</td>\n",
       "      <td>-4842</td>\n",
       "    </tr>\n",
       "    <tr>\n",
       "      <th>15</th>\n",
       "      <td>2024-09-26</td>\n",
       "      <td>3999</td>\n",
       "    </tr>\n",
       "    <tr>\n",
       "      <th>16</th>\n",
       "      <td>2024-09-27</td>\n",
       "      <td>18104</td>\n",
       "    </tr>\n",
       "    <tr>\n",
       "      <th>17</th>\n",
       "      <td>2024-09-30</td>\n",
       "      <td>3179</td>\n",
       "    </tr>\n",
       "    <tr>\n",
       "      <th>18</th>\n",
       "      <td>2024-10-01</td>\n",
       "      <td>2587</td>\n",
       "    </tr>\n",
       "    <tr>\n",
       "      <th>19</th>\n",
       "      <td>2024-10-04</td>\n",
       "      <td>-8718</td>\n",
       "    </tr>\n",
       "  </tbody>\n",
       "</table>\n",
       "</div>"
      ],
      "text/plain": [
       "         Date  net_oi\n",
       "0  2024-09-04  -13701\n",
       "1  2024-09-05   -6748\n",
       "2  2024-09-06   -8728\n",
       "3  2024-09-09   -1162\n",
       "4  2024-09-10   -3729\n",
       "5  2024-09-11  -16668\n",
       "6  2024-09-12  -13185\n",
       "7  2024-09-13  -12756\n",
       "8  2024-09-16  -22531\n",
       "9  2024-09-18   -7109\n",
       "10 2024-09-19    5491\n",
       "11 2024-09-20   -1026\n",
       "12 2024-09-23   -5153\n",
       "13 2024-09-24   -9907\n",
       "14 2024-09-25   -4842\n",
       "15 2024-09-26    3999\n",
       "16 2024-09-27   18104\n",
       "17 2024-09-30    3179\n",
       "18 2024-10-01    2587\n",
       "19 2024-10-04   -8718"
      ]
     },
     "execution_count": 26,
     "metadata": {},
     "output_type": "execute_result"
    }
   ],
   "source": [
    "# 篩選臺指選擇權的自營商資訊\n",
    "mj_institutional_trader_df = df.copy()\n",
    "\n",
    "mj_institutional_trader_df = mj_institutional_trader_df[\n",
    "    (mj_institutional_trader_df[\"商品名稱\"] == \"臺指選擇權\") & \n",
    "    (mj_institutional_trader_df[\"身份別\"] == \"自營商\")\n",
    "]\n",
    "mj_institutional_trader_df = mj_institutional_trader_df[[\"日期\", \"未平倉口數買賣淨額\"]]\n",
    "\n",
    "# 依日期對未平倉口數買賣淨額，進行 group by 加總\n",
    "mj_institutional_trader_df = mj_institutional_trader_df.groupby(\"日期\")[\"未平倉口數買賣淨額\"].sum().reset_index()\n",
    "\n",
    "mj_institutional_trader_df.columns = [\"Date\", \"net_oi\"]\n",
    "mj_institutional_trader_df"
   ]
  },
  {
   "cell_type": "markdown",
   "metadata": {},
   "source": [
    "## 資料留存ＤＢ"
   ]
  },
  {
   "cell_type": "code",
   "execution_count": 21,
   "metadata": {},
   "outputs": [],
   "source": [
    "# 設定資料庫路徑\n",
    "TWSTOCK_DATA_ROOT = os.environ.get(\"hist_data_path\")\n",
    "twstock_db_path = f\"{TWSTOCK_DATA_ROOT}/twstock.duckdb\""
   ]
  },
  {
   "cell_type": "code",
   "execution_count": 27,
   "metadata": {},
   "outputs": [],
   "source": [
    "# 連線資料庫\n",
    "conn_duckdb = duckdb.connect(twstock_db_path)"
   ]
  },
  {
   "cell_type": "code",
   "execution_count": 28,
   "metadata": {},
   "outputs": [],
   "source": [
    "table_name = \"tw_option_proprietary_traders_oi\""
   ]
  },
  {
   "cell_type": "code",
   "execution_count": 29,
   "metadata": {},
   "outputs": [
    {
     "name": "stderr",
     "output_type": "stream",
     "text": [
      "/var/folders/14/b8c6vz6n79n4wt12qny6djk40000gn/T/ipykernel_55428/1829465630.py:4: UserWarning: pandas only supports SQLAlchemy connectable (engine/connection) or database string URI or sqlite3 DBAPI2 connection. Other DBAPI2 objects are not tested. Please consider using SQLAlchemy.\n",
      "  mj_institutional_trader_df.iloc[i:i+1].to_sql(table_name, conn_duckdb, if_exists=\"append\", index=False)\n"
     ]
    }
   ],
   "source": [
    "# 針對DataFrame，以Date單筆先確認表中，欄位Date沒有重複資料時，才進行單筆insert\n",
    "for i in range(len(mj_institutional_trader_df)):\n",
    "    try:\n",
    "        mj_institutional_trader_df.iloc[i:i+1].to_sql(table_name, conn_duckdb, if_exists=\"append\", index=False)\n",
    "    except Exception as e:\n",
    "        # print(e)\n",
    "        pass\n"
   ]
  },
  {
   "cell_type": "code",
   "execution_count": 30,
   "metadata": {},
   "outputs": [
    {
     "data": {
      "text/html": [
       "<div>\n",
       "<style scoped>\n",
       "    .dataframe tbody tr th:only-of-type {\n",
       "        vertical-align: middle;\n",
       "    }\n",
       "\n",
       "    .dataframe tbody tr th {\n",
       "        vertical-align: top;\n",
       "    }\n",
       "\n",
       "    .dataframe thead th {\n",
       "        text-align: right;\n",
       "    }\n",
       "</style>\n",
       "<table border=\"1\" class=\"dataframe\">\n",
       "  <thead>\n",
       "    <tr style=\"text-align: right;\">\n",
       "      <th></th>\n",
       "      <th>Date</th>\n",
       "      <th>net_oi</th>\n",
       "    </tr>\n",
       "  </thead>\n",
       "  <tbody>\n",
       "    <tr>\n",
       "      <th>0</th>\n",
       "      <td>2024-10-04</td>\n",
       "      <td>-8718</td>\n",
       "    </tr>\n",
       "    <tr>\n",
       "      <th>1</th>\n",
       "      <td>2024-10-01</td>\n",
       "      <td>2587</td>\n",
       "    </tr>\n",
       "    <tr>\n",
       "      <th>2</th>\n",
       "      <td>2024-09-30</td>\n",
       "      <td>3179</td>\n",
       "    </tr>\n",
       "    <tr>\n",
       "      <th>3</th>\n",
       "      <td>2024-09-27</td>\n",
       "      <td>18104</td>\n",
       "    </tr>\n",
       "    <tr>\n",
       "      <th>4</th>\n",
       "      <td>2024-09-26</td>\n",
       "      <td>3999</td>\n",
       "    </tr>\n",
       "    <tr>\n",
       "      <th>5</th>\n",
       "      <td>2024-09-25</td>\n",
       "      <td>-4842</td>\n",
       "    </tr>\n",
       "    <tr>\n",
       "      <th>6</th>\n",
       "      <td>2024-09-24</td>\n",
       "      <td>-9907</td>\n",
       "    </tr>\n",
       "    <tr>\n",
       "      <th>7</th>\n",
       "      <td>2024-09-23</td>\n",
       "      <td>-5153</td>\n",
       "    </tr>\n",
       "    <tr>\n",
       "      <th>8</th>\n",
       "      <td>2024-09-20</td>\n",
       "      <td>-1026</td>\n",
       "    </tr>\n",
       "    <tr>\n",
       "      <th>9</th>\n",
       "      <td>2024-09-19</td>\n",
       "      <td>5491</td>\n",
       "    </tr>\n",
       "    <tr>\n",
       "      <th>10</th>\n",
       "      <td>2024-09-18</td>\n",
       "      <td>-7109</td>\n",
       "    </tr>\n",
       "    <tr>\n",
       "      <th>11</th>\n",
       "      <td>2024-09-16</td>\n",
       "      <td>-22531</td>\n",
       "    </tr>\n",
       "    <tr>\n",
       "      <th>12</th>\n",
       "      <td>2024-09-13</td>\n",
       "      <td>-12756</td>\n",
       "    </tr>\n",
       "    <tr>\n",
       "      <th>13</th>\n",
       "      <td>2024-09-12</td>\n",
       "      <td>-13185</td>\n",
       "    </tr>\n",
       "    <tr>\n",
       "      <th>14</th>\n",
       "      <td>2024-09-11</td>\n",
       "      <td>-16668</td>\n",
       "    </tr>\n",
       "    <tr>\n",
       "      <th>15</th>\n",
       "      <td>2024-09-10</td>\n",
       "      <td>-3729</td>\n",
       "    </tr>\n",
       "    <tr>\n",
       "      <th>16</th>\n",
       "      <td>2024-09-09</td>\n",
       "      <td>-1162</td>\n",
       "    </tr>\n",
       "    <tr>\n",
       "      <th>17</th>\n",
       "      <td>2024-09-06</td>\n",
       "      <td>-8728</td>\n",
       "    </tr>\n",
       "    <tr>\n",
       "      <th>18</th>\n",
       "      <td>2024-09-05</td>\n",
       "      <td>-6748</td>\n",
       "    </tr>\n",
       "    <tr>\n",
       "      <th>19</th>\n",
       "      <td>2024-09-04</td>\n",
       "      <td>-13701</td>\n",
       "    </tr>\n",
       "  </tbody>\n",
       "</table>\n",
       "</div>"
      ],
      "text/plain": [
       "         Date  net_oi\n",
       "0  2024-10-04   -8718\n",
       "1  2024-10-01    2587\n",
       "2  2024-09-30    3179\n",
       "3  2024-09-27   18104\n",
       "4  2024-09-26    3999\n",
       "5  2024-09-25   -4842\n",
       "6  2024-09-24   -9907\n",
       "7  2024-09-23   -5153\n",
       "8  2024-09-20   -1026\n",
       "9  2024-09-19    5491\n",
       "10 2024-09-18   -7109\n",
       "11 2024-09-16  -22531\n",
       "12 2024-09-13  -12756\n",
       "13 2024-09-12  -13185\n",
       "14 2024-09-11  -16668\n",
       "15 2024-09-10   -3729\n",
       "16 2024-09-09   -1162\n",
       "17 2024-09-06   -8728\n",
       "18 2024-09-05   -6748\n",
       "19 2024-09-04  -13701"
      ]
     },
     "execution_count": 30,
     "metadata": {},
     "output_type": "execute_result"
    }
   ],
   "source": [
    "# 查詢表中所有資料\n",
    "conn_duckdb.execute(f\"SELECT * FROM {table_name} order by Date desc\").fetch_df()"
   ]
  },
  {
   "cell_type": "code",
   "execution_count": 31,
   "metadata": {},
   "outputs": [],
   "source": [
    "# 關閉資料庫連線\n",
    "conn_duckdb.close()"
   ]
  },
  {
   "cell_type": "code",
   "execution_count": null,
   "metadata": {},
   "outputs": [],
   "source": []
  }
 ],
 "metadata": {
  "kernelspec": {
   "display_name": ".venv",
   "language": "python",
   "name": "python3"
  },
  "language_info": {
   "codemirror_mode": {
    "name": "ipython",
    "version": 3
   },
   "file_extension": ".py",
   "mimetype": "text/x-python",
   "name": "python",
   "nbconvert_exporter": "python",
   "pygments_lexer": "ipython3",
   "version": "3.12.3"
  }
 },
 "nbformat": 4,
 "nbformat_minor": 2
}
