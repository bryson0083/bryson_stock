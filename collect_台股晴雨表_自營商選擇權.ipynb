{
 "cells": [
  {
   "cell_type": "markdown",
   "metadata": {},
   "source": [
    "# 自營商選擇權  \n",
    "* 方法1: 透過openapi取得資訊  \n",
    "> [三大法人-選擇權買賣權分計-依日期](https://www.taifex.com.tw/cht/3/callsAndPutsDateView)  \n",
    "* 方法2: 透過期交所網站下載資料進行更新  \n",
    "> 首頁 > 交易資訊 > 三大法人 > 下載 > 選擇權買賣權分計 > 依日期  \n",
    "> [選擇權買賣權分計_依日期下載](https://www.taifex.com.tw/cht/3/callsAndPutsDateDown)\n"
   ]
  },
  {
   "cell_type": "code",
   "execution_count": 1,
   "metadata": {},
   "outputs": [],
   "source": [
    "import os\n",
    "from datetime import date\n",
    "from datetime import datetime\n",
    "import shutil\n",
    "import requests\n",
    "import pandas as pd\n",
    "import duckdb\n",
    "import zipfile"
   ]
  },
  {
   "cell_type": "code",
   "execution_count": 2,
   "metadata": {},
   "outputs": [],
   "source": [
    "from finlab import data\n",
    "import finlab"
   ]
  },
  {
   "cell_type": "code",
   "execution_count": 3,
   "metadata": {},
   "outputs": [],
   "source": [
    "# 引用自建公用模組\n",
    "from proj_util_pkg.settings import ProjEnvSettings\n",
    "from proj_util_pkg.finlab_api import finlab_manager as flm"
   ]
  },
  {
   "cell_type": "markdown",
   "metadata": {},
   "source": [
    "## 公用參數設定"
   ]
  },
  {
   "cell_type": "code",
   "execution_count": 4,
   "metadata": {},
   "outputs": [
    {
     "name": "stdout",
     "output_type": "stream",
     "text": [
      "輸入成功!\n"
     ]
    }
   ],
   "source": [
    "# finlab api 服務初始化\n",
    "finlab = flm.FinlabManager()\n",
    "data.force_cloud_download = False"
   ]
  },
  {
   "cell_type": "code",
   "execution_count": 5,
   "metadata": {},
   "outputs": [],
   "source": [
    "# 欄數全展開\n",
    "pd.set_option(\"display.max_columns\", None)"
   ]
  },
  {
   "cell_type": "code",
   "execution_count": 6,
   "metadata": {},
   "outputs": [],
   "source": [
    "# 新增偽裝成chrome瀏覽器的標頭\n",
    "headers = {\n",
    "    'User-Agent': 'Mozilla/5.0 (Windows NT 10.0; Win64; x64) AppleWebKit/537.36 (KHTML, like Gecko) Chrome/58.0.3029.110 Safari/537.3'\n",
    "}"
   ]
  },
  {
   "cell_type": "markdown",
   "metadata": {},
   "source": [
    "## 外部資料讀取  \n",
    "### 方法1: 透過期交所 open api 取得最近一個交易日數據  \n",
    "* API只能取得Ｄ-1資訊"
   ]
  },
  {
   "cell_type": "code",
   "execution_count": 7,
   "metadata": {},
   "outputs": [
    {
     "name": "stdout",
     "output_type": "stream",
     "text": [
      "[{'Date': '20241022', 'ContractCode': '臺指選擇權', 'CallPut': 'CALL', 'Item': '自營商', 'TradingVolume(Long)': '103353', 'TradingValue(Long)(Thousands)': '315240', 'TradingVolume(Short)': '107415', 'TradingValue(Short)(Thousands)': '329721', 'TradingVolume(Net)': '-4062', 'TradingValue(Net)(Thousands)': '-14481', 'OpenInterest(Long)': '38690', 'ContractValueofOpenInterest(Long)(Thousands)': '653314', 'OpenInterest(Short)': '43620', 'ContractValueofOpenInterest(Short)(Thousands)': '671465', 'OpenInterest(Net)': '-4930', 'ContractValueofOpenInterest(Net)(Thousands)': '-18151'}, {'Date': '20241022', 'ContractCode': '臺指選擇權', 'CallPut': 'CALL', 'Item': '投信', 'TradingVolume(Long)': '0', 'TradingValue(Long)(Thousands)': '0', 'TradingVolume(Short)': '0', 'TradingValue(Short)(Thousands)': '0', 'TradingVolume(Net)': '0', 'TradingValue(Net)(Thousands)': '0', 'OpenInterest(Long)': '0', 'ContractValueofOpenInterest(Long)(Thousands)': '0', 'OpenInterest(Short)': '152', 'ContractValueofOpenInterest(Short)(Thousands)': '2337', 'OpenInterest(Net)': '-152', 'ContractValueofOpenInterest(Net)(Thousands)': '-2337'}, {'Date': '20241022', 'ContractCode': '臺指選擇權', 'CallPut': 'CALL', 'Item': '外資及陸資', 'TradingVolume(Long)': '86603', 'TradingValue(Long)(Thousands)': '375817', 'TradingVolume(Short)': '85836', 'TradingValue(Short)(Thousands)': '375630', 'TradingVolume(Net)': '767', 'TradingValue(Net)(Thousands)': '187', 'OpenInterest(Long)': '25415', 'ContractValueofOpenInterest(Long)(Thousands)': '527448', 'OpenInterest(Short)': '15578', 'ContractValueofOpenInterest(Short)(Thousands)': '396614', 'OpenInterest(Net)': '9837', 'ContractValueofOpenInterest(Net)(Thousands)': '130834'}, {'Date': '20241022', 'ContractCode': '臺指選擇權', 'CallPut': 'PUT', 'Item': '自營商', 'TradingVolume(Long)': '93743', 'TradingValue(Long)(Thousands)': '405351', 'TradingVolume(Short)': '84699', 'TradingValue(Short)(Thousands)': '397564', 'TradingVolume(Net)': '9044', 'TradingValue(Net)(Thousands)': '7786', 'OpenInterest(Long)': '42847', 'ContractValueofOpenInterest(Long)(Thousands)': '383240', 'OpenInterest(Short)': '36274', 'ContractValueofOpenInterest(Short)(Thousands)': '251714', 'OpenInterest(Net)': '6573', 'ContractValueofOpenInterest(Net)(Thousands)': '131526'}, {'Date': '20241022', 'ContractCode': '臺指選擇權', 'CallPut': 'PUT', 'Item': '投信', 'TradingVolume(Long)': '0', 'TradingValue(Long)(Thousands)': '0', 'TradingVolume(Short)': '0', 'TradingValue(Short)(Thousands)': '0', 'TradingVolume(Net)': '0', 'TradingValue(Net)(Thousands)': '0', 'OpenInterest(Long)': '0', 'ContractValueofOpenInterest(Long)(Thousands)': '0', 'OpenInterest(Short)': '0', 'ContractValueofOpenInterest(Short)(Thousands)': '0', 'OpenInterest(Net)': '0', 'ContractValueofOpenInterest(Net)(Thousands)': '0'}, {'Date': '20241022', 'ContractCode': '臺指選擇權', 'CallPut': 'PUT', 'Item': '外資及陸資', 'TradingVolume(Long)': '89780', 'TradingValue(Long)(Thousands)': '465469', 'TradingVolume(Short)': '88713', 'TradingValue(Short)(Thousands)': '463537', 'TradingVolume(Net)': '1067', 'TradingValue(Net)(Thousands)': '1932', 'OpenInterest(Long)': '19447', 'ContractValueofOpenInterest(Long)(Thousands)': '173876', 'OpenInterest(Short)': '12070', 'ContractValueofOpenInterest(Short)(Thousands)': '117653', 'OpenInterest(Net)': '7377', 'ContractValueofOpenInterest(Net)(Thousands)': '56223'}, {'Date': '20241022', 'ContractCode': '電子選擇權', 'CallPut': 'CALL', 'Item': '自營商', 'TradingVolume(Long)': '0', 'TradingValue(Long)(Thousands)': '0', 'TradingVolume(Short)': '0', 'TradingValue(Short)(Thousands)': '0', 'TradingVolume(Net)': '0', 'TradingValue(Net)(Thousands)': '0', 'OpenInterest(Long)': '120', 'ContractValueofOpenInterest(Long)(Thousands)': '8563', 'OpenInterest(Short)': '108', 'ContractValueofOpenInterest(Short)(Thousands)': '7792', 'OpenInterest(Net)': '12', 'ContractValueofOpenInterest(Net)(Thousands)': '771'}, {'Date': '20241022', 'ContractCode': '電子選擇權', 'CallPut': 'CALL', 'Item': '投信', 'TradingVolume(Long)': '0', 'TradingValue(Long)(Thousands)': '0', 'TradingVolume(Short)': '0', 'TradingValue(Short)(Thousands)': '0', 'TradingVolume(Net)': '0', 'TradingValue(Net)(Thousands)': '0', 'OpenInterest(Long)': '0', 'ContractValueofOpenInterest(Long)(Thousands)': '0', 'OpenInterest(Short)': '0', 'ContractValueofOpenInterest(Short)(Thousands)': '0', 'OpenInterest(Net)': '0', 'ContractValueofOpenInterest(Net)(Thousands)': '0'}, {'Date': '20241022', 'ContractCode': '電子選擇權', 'CallPut': 'CALL', 'Item': '外資及陸資', 'TradingVolume(Long)': '0', 'TradingValue(Long)(Thousands)': '0', 'TradingVolume(Short)': '0', 'TradingValue(Short)(Thousands)': '0', 'TradingVolume(Net)': '0', 'TradingValue(Net)(Thousands)': '0', 'OpenInterest(Long)': '0', 'ContractValueofOpenInterest(Long)(Thousands)': '0', 'OpenInterest(Short)': '0', 'ContractValueofOpenInterest(Short)(Thousands)': '0', 'OpenInterest(Net)': '0', 'ContractValueofOpenInterest(Net)(Thousands)': '0'}, {'Date': '20241022', 'ContractCode': '電子選擇權', 'CallPut': 'PUT', 'Item': '自營商', 'TradingVolume(Long)': '3', 'TradingValue(Long)(Thousands)': '81', 'TradingVolume(Short)': '4', 'TradingValue(Short)(Thousands)': '106', 'TradingVolume(Net)': '-1', 'TradingValue(Net)(Thousands)': '-25', 'OpenInterest(Long)': '142', 'ContractValueofOpenInterest(Long)(Thousands)': '3208', 'OpenInterest(Short)': '143', 'ContractValueofOpenInterest(Short)(Thousands)': '3369', 'OpenInterest(Net)': '-1', 'ContractValueofOpenInterest(Net)(Thousands)': '-161'}, {'Date': '20241022', 'ContractCode': '電子選擇權', 'CallPut': 'PUT', 'Item': '投信', 'TradingVolume(Long)': '0', 'TradingValue(Long)(Thousands)': '0', 'TradingVolume(Short)': '0', 'TradingValue(Short)(Thousands)': '0', 'TradingVolume(Net)': '0', 'TradingValue(Net)(Thousands)': '0', 'OpenInterest(Long)': '0', 'ContractValueofOpenInterest(Long)(Thousands)': '0', 'OpenInterest(Short)': '0', 'ContractValueofOpenInterest(Short)(Thousands)': '0', 'OpenInterest(Net)': '0', 'ContractValueofOpenInterest(Net)(Thousands)': '0'}, {'Date': '20241022', 'ContractCode': '電子選擇權', 'CallPut': 'PUT', 'Item': '外資及陸資', 'TradingVolume(Long)': '0', 'TradingValue(Long)(Thousands)': '0', 'TradingVolume(Short)': '0', 'TradingValue(Short)(Thousands)': '0', 'TradingVolume(Net)': '0', 'TradingValue(Net)(Thousands)': '0', 'OpenInterest(Long)': '0', 'ContractValueofOpenInterest(Long)(Thousands)': '0', 'OpenInterest(Short)': '0', 'ContractValueofOpenInterest(Short)(Thousands)': '0', 'OpenInterest(Net)': '0', 'ContractValueofOpenInterest(Net)(Thousands)': '0'}, {'Date': '20241022', 'ContractCode': '金融選擇權', 'CallPut': 'CALL', 'Item': '自營商', 'TradingVolume(Long)': '206', 'TradingValue(Long)(Thousands)': '666', 'TradingVolume(Short)': '228', 'TradingValue(Short)(Thousands)': '710', 'TradingVolume(Net)': '-22', 'TradingValue(Net)(Thousands)': '-44', 'OpenInterest(Long)': '1482', 'ContractValueofOpenInterest(Long)(Thousands)': '5973', 'OpenInterest(Short)': '1546', 'ContractValueofOpenInterest(Short)(Thousands)': '5968', 'OpenInterest(Net)': '-64', 'ContractValueofOpenInterest(Net)(Thousands)': '5'}, {'Date': '20241022', 'ContractCode': '金融選擇權', 'CallPut': 'CALL', 'Item': '投信', 'TradingVolume(Long)': '0', 'TradingValue(Long)(Thousands)': '0', 'TradingVolume(Short)': '0', 'TradingValue(Short)(Thousands)': '0', 'TradingVolume(Net)': '0', 'TradingValue(Net)(Thousands)': '0', 'OpenInterest(Long)': '0', 'ContractValueofOpenInterest(Long)(Thousands)': '0', 'OpenInterest(Short)': '0', 'ContractValueofOpenInterest(Short)(Thousands)': '0', 'OpenInterest(Net)': '0', 'ContractValueofOpenInterest(Net)(Thousands)': '0'}, {'Date': '20241022', 'ContractCode': '金融選擇權', 'CallPut': 'CALL', 'Item': '外資及陸資', 'TradingVolume(Long)': '0', 'TradingValue(Long)(Thousands)': '0', 'TradingVolume(Short)': '0', 'TradingValue(Short)(Thousands)': '0', 'TradingVolume(Net)': '0', 'TradingValue(Net)(Thousands)': '0', 'OpenInterest(Long)': '0', 'ContractValueofOpenInterest(Long)(Thousands)': '0', 'OpenInterest(Short)': '0', 'ContractValueofOpenInterest(Short)(Thousands)': '0', 'OpenInterest(Net)': '0', 'ContractValueofOpenInterest(Net)(Thousands)': '0'}, {'Date': '20241022', 'ContractCode': '金融選擇權', 'CallPut': 'PUT', 'Item': '自營商', 'TradingVolume(Long)': '68', 'TradingValue(Long)(Thousands)': '432', 'TradingVolume(Short)': '66', 'TradingValue(Short)(Thousands)': '426', 'TradingVolume(Net)': '2', 'TradingValue(Net)(Thousands)': '6', 'OpenInterest(Long)': '598', 'ContractValueofOpenInterest(Long)(Thousands)': '3308', 'OpenInterest(Short)': '503', 'ContractValueofOpenInterest(Short)(Thousands)': '2911', 'OpenInterest(Net)': '95', 'ContractValueofOpenInterest(Net)(Thousands)': '397'}, {'Date': '20241022', 'ContractCode': '金融選擇權', 'CallPut': 'PUT', 'Item': '投信', 'TradingVolume(Long)': '0', 'TradingValue(Long)(Thousands)': '0', 'TradingVolume(Short)': '0', 'TradingValue(Short)(Thousands)': '0', 'TradingVolume(Net)': '0', 'TradingValue(Net)(Thousands)': '0', 'OpenInterest(Long)': '0', 'ContractValueofOpenInterest(Long)(Thousands)': '0', 'OpenInterest(Short)': '0', 'ContractValueofOpenInterest(Short)(Thousands)': '0', 'OpenInterest(Net)': '0', 'ContractValueofOpenInterest(Net)(Thousands)': '0'}, {'Date': '20241022', 'ContractCode': '金融選擇權', 'CallPut': 'PUT', 'Item': '外資及陸資', 'TradingVolume(Long)': '0', 'TradingValue(Long)(Thousands)': '0', 'TradingVolume(Short)': '0', 'TradingValue(Short)(Thousands)': '0', 'TradingVolume(Net)': '0', 'TradingValue(Net)(Thousands)': '0', 'OpenInterest(Long)': '0', 'ContractValueofOpenInterest(Long)(Thousands)': '0', 'OpenInterest(Short)': '0', 'ContractValueofOpenInterest(Short)(Thousands)': '0', 'OpenInterest(Net)': '0', 'ContractValueofOpenInterest(Net)(Thousands)': '0'}, {'Date': '20241022', 'ContractCode': '股票選擇權', 'CallPut': 'CALL', 'Item': '自營商', 'TradingVolume(Long)': '261', 'TradingValue(Long)(Thousands)': '2850', 'TradingVolume(Short)': '264', 'TradingValue(Short)(Thousands)': '2670', 'TradingVolume(Net)': '-3', 'TradingValue(Net)(Thousands)': '180', 'OpenInterest(Long)': '951', 'ContractValueofOpenInterest(Long)(Thousands)': '22265', 'OpenInterest(Short)': '723', 'ContractValueofOpenInterest(Short)(Thousands)': '12866', 'OpenInterest(Net)': '228', 'ContractValueofOpenInterest(Net)(Thousands)': '9399'}, {'Date': '20241022', 'ContractCode': '股票選擇權', 'CallPut': 'CALL', 'Item': '投信', 'TradingVolume(Long)': '0', 'TradingValue(Long)(Thousands)': '0', 'TradingVolume(Short)': '0', 'TradingValue(Short)(Thousands)': '0', 'TradingVolume(Net)': '0', 'TradingValue(Net)(Thousands)': '0', 'OpenInterest(Long)': '0', 'ContractValueofOpenInterest(Long)(Thousands)': '0', 'OpenInterest(Short)': '0', 'ContractValueofOpenInterest(Short)(Thousands)': '0', 'OpenInterest(Net)': '0', 'ContractValueofOpenInterest(Net)(Thousands)': '0'}, {'Date': '20241022', 'ContractCode': '股票選擇權', 'CallPut': 'CALL', 'Item': '外資及陸資', 'TradingVolume(Long)': '0', 'TradingValue(Long)(Thousands)': '0', 'TradingVolume(Short)': '0', 'TradingValue(Short)(Thousands)': '0', 'TradingVolume(Net)': '0', 'TradingValue(Net)(Thousands)': '0', 'OpenInterest(Long)': '0', 'ContractValueofOpenInterest(Long)(Thousands)': '0', 'OpenInterest(Short)': '0', 'ContractValueofOpenInterest(Short)(Thousands)': '0', 'OpenInterest(Net)': '0', 'ContractValueofOpenInterest(Net)(Thousands)': '0'}, {'Date': '20241022', 'ContractCode': '股票選擇權', 'CallPut': 'PUT', 'Item': '自營商', 'TradingVolume(Long)': '96', 'TradingValue(Long)(Thousands)': '1287', 'TradingVolume(Short)': '94', 'TradingValue(Short)(Thousands)': '1101', 'TradingVolume(Net)': '2', 'TradingValue(Net)(Thousands)': '186', 'OpenInterest(Long)': '755', 'ContractValueofOpenInterest(Long)(Thousands)': '7351', 'OpenInterest(Short)': '364', 'ContractValueofOpenInterest(Short)(Thousands)': '1915', 'OpenInterest(Net)': '391', 'ContractValueofOpenInterest(Net)(Thousands)': '5436'}, {'Date': '20241022', 'ContractCode': '股票選擇權', 'CallPut': 'PUT', 'Item': '投信', 'TradingVolume(Long)': '0', 'TradingValue(Long)(Thousands)': '0', 'TradingVolume(Short)': '0', 'TradingValue(Short)(Thousands)': '0', 'TradingVolume(Net)': '0', 'TradingValue(Net)(Thousands)': '0', 'OpenInterest(Long)': '0', 'ContractValueofOpenInterest(Long)(Thousands)': '0', 'OpenInterest(Short)': '0', 'ContractValueofOpenInterest(Short)(Thousands)': '0', 'OpenInterest(Net)': '0', 'ContractValueofOpenInterest(Net)(Thousands)': '0'}, {'Date': '20241022', 'ContractCode': '股票選擇權', 'CallPut': 'PUT', 'Item': '外資及陸資', 'TradingVolume(Long)': '0', 'TradingValue(Long)(Thousands)': '0', 'TradingVolume(Short)': '0', 'TradingValue(Short)(Thousands)': '0', 'TradingVolume(Net)': '0', 'TradingValue(Net)(Thousands)': '0', 'OpenInterest(Long)': '0', 'ContractValueofOpenInterest(Long)(Thousands)': '0', 'OpenInterest(Short)': '0', 'ContractValueofOpenInterest(Short)(Thousands)': '0', 'OpenInterest(Net)': '0', 'ContractValueofOpenInterest(Net)(Thousands)': '0'}, {'Date': '20241022', 'ContractCode': 'ETF選擇權', 'CallPut': 'CALL', 'Item': '自營商', 'TradingVolume(Long)': '0', 'TradingValue(Long)(Thousands)': '0', 'TradingVolume(Short)': '0', 'TradingValue(Short)(Thousands)': '0', 'TradingVolume(Net)': '0', 'TradingValue(Net)(Thousands)': '0', 'OpenInterest(Long)': '25', 'ContractValueofOpenInterest(Long)(Thousands)': '893', 'OpenInterest(Short)': '24', 'ContractValueofOpenInterest(Short)(Thousands)': '883', 'OpenInterest(Net)': '1', 'ContractValueofOpenInterest(Net)(Thousands)': '10'}, {'Date': '20241022', 'ContractCode': 'ETF選擇權', 'CallPut': 'CALL', 'Item': '投信', 'TradingVolume(Long)': '0', 'TradingValue(Long)(Thousands)': '0', 'TradingVolume(Short)': '0', 'TradingValue(Short)(Thousands)': '0', 'TradingVolume(Net)': '0', 'TradingValue(Net)(Thousands)': '0', 'OpenInterest(Long)': '0', 'ContractValueofOpenInterest(Long)(Thousands)': '0', 'OpenInterest(Short)': '0', 'ContractValueofOpenInterest(Short)(Thousands)': '0', 'OpenInterest(Net)': '0', 'ContractValueofOpenInterest(Net)(Thousands)': '0'}, {'Date': '20241022', 'ContractCode': 'ETF選擇權', 'CallPut': 'CALL', 'Item': '外資及陸資', 'TradingVolume(Long)': '0', 'TradingValue(Long)(Thousands)': '0', 'TradingVolume(Short)': '0', 'TradingValue(Short)(Thousands)': '0', 'TradingVolume(Net)': '0', 'TradingValue(Net)(Thousands)': '0', 'OpenInterest(Long)': '0', 'ContractValueofOpenInterest(Long)(Thousands)': '0', 'OpenInterest(Short)': '0', 'ContractValueofOpenInterest(Short)(Thousands)': '0', 'OpenInterest(Net)': '0', 'ContractValueofOpenInterest(Net)(Thousands)': '0'}, {'Date': '20241022', 'ContractCode': 'ETF選擇權', 'CallPut': 'PUT', 'Item': '自營商', 'TradingVolume(Long)': '1', 'TradingValue(Long)(Thousands)': '7', 'TradingVolume(Short)': '0', 'TradingValue(Short)(Thousands)': '0', 'TradingVolume(Net)': '1', 'TradingValue(Net)(Thousands)': '7', 'OpenInterest(Long)': '7', 'ContractValueofOpenInterest(Long)(Thousands)': '514', 'OpenInterest(Short)': '20', 'ContractValueofOpenInterest(Short)(Thousands)': '746', 'OpenInterest(Net)': '-13', 'ContractValueofOpenInterest(Net)(Thousands)': '-232'}, {'Date': '20241022', 'ContractCode': 'ETF選擇權', 'CallPut': 'PUT', 'Item': '投信', 'TradingVolume(Long)': '0', 'TradingValue(Long)(Thousands)': '0', 'TradingVolume(Short)': '0', 'TradingValue(Short)(Thousands)': '0', 'TradingVolume(Net)': '0', 'TradingValue(Net)(Thousands)': '0', 'OpenInterest(Long)': '0', 'ContractValueofOpenInterest(Long)(Thousands)': '0', 'OpenInterest(Short)': '0', 'ContractValueofOpenInterest(Short)(Thousands)': '0', 'OpenInterest(Net)': '0', 'ContractValueofOpenInterest(Net)(Thousands)': '0'}, {'Date': '20241022', 'ContractCode': 'ETF選擇權', 'CallPut': 'PUT', 'Item': '外資及陸資', 'TradingVolume(Long)': '0', 'TradingValue(Long)(Thousands)': '0', 'TradingVolume(Short)': '0', 'TradingValue(Short)(Thousands)': '0', 'TradingVolume(Net)': '0', 'TradingValue(Net)(Thousands)': '0', 'OpenInterest(Long)': '0', 'ContractValueofOpenInterest(Long)(Thousands)': '0', 'OpenInterest(Short)': '0', 'ContractValueofOpenInterest(Short)(Thousands)': '0', 'OpenInterest(Net)': '0', 'ContractValueofOpenInterest(Net)(Thousands)': '0'}]\n"
     ]
    }
   ],
   "source": [
    "# 取得三大法人-選擇權買賣權分計-依日期\n",
    "mj_institutional_trader = requests.get(\n",
    "    \"https://openapi.taifex.com.tw/v1/MarketDataOfMajorInstitutionalTradersDetailsOfCallsAndPutsBytheDate\", \n",
    "    verify=False,\n",
    "    headers=headers\n",
    ").json()\n",
    "print(mj_institutional_trader)"
   ]
  },
  {
   "cell_type": "code",
   "execution_count": 8,
   "metadata": {},
   "outputs": [
    {
     "name": "stdout",
     "output_type": "stream",
     "text": [
      "(30, 16)\n"
     ]
    }
   ],
   "source": [
    "# json 轉成 dataframe\n",
    "mj_institutional_trader_df = pd.DataFrame(mj_institutional_trader)\n",
    "print(mj_institutional_trader_df.shape)\n",
    "# mj_institutional_trader_df"
   ]
  },
  {
   "cell_type": "code",
   "execution_count": 9,
   "metadata": {},
   "outputs": [
    {
     "data": {
      "text/plain": [
       "Timestamp('2024-10-22 00:00:00')"
      ]
     },
     "execution_count": 9,
     "metadata": {},
     "output_type": "execute_result"
    }
   ],
   "source": [
    "# 取得最後一筆交易日，作為方法2的查詢終止日條件\n",
    "last_txn_date = mj_institutional_trader_df.tail(1)[\"Date\"].values[0]\n",
    "last_txn_date = pd.to_datetime(last_txn_date)\n",
    "\n",
    "last_txn_date"
   ]
  },
  {
   "cell_type": "markdown",
   "metadata": {},
   "source": [
    "### 方法2: 透過期交所網站下載資料進行更新  "
   ]
  },
  {
   "cell_type": "code",
   "execution_count": 10,
   "metadata": {},
   "outputs": [
    {
     "name": "stderr",
     "output_type": "stream",
     "text": [
      "Your version is 1.2.15, please install a newer version.\n",
      "Use \"pip install finlab==1.2.16\" to update the latest version.\n"
     ]
    },
    {
     "name": "stdout",
     "output_type": "stream",
     "text": [
      "近一個交易日期: 2024-10-23\n"
     ]
    }
   ],
   "source": [
    "# 讀取台股收盤價資訊\n",
    "close = data.get(\"price:收盤價\", save_to_storage=True)\n",
    "\n",
    "# 取得近一個交易日期ａｃ\n",
    "last_txn_date = close.tail(1).index[0].date()\n",
    "print(f\"近一個交易日期: {last_txn_date}\")"
   ]
  },
  {
   "cell_type": "code",
   "execution_count": 11,
   "metadata": {},
   "outputs": [
    {
     "name": "stdout",
     "output_type": "stream",
     "text": [
      "2021/10/23 00:00 ~ 2024/10/23 00:00\n"
     ]
    },
    {
     "data": {
      "text/plain": [
       "'2024/09/23 ~ 2024/10/23 00:00'"
      ]
     },
     "execution_count": 11,
     "metadata": {},
     "output_type": "execute_result"
    }
   ],
   "source": [
    "# 日期參數設定\n",
    "query_first_date = (last_txn_date - pd.DateOffset(years=3)).strftime(\"%Y/%m/%d %H:%M\")\n",
    "query_last_date = last_txn_date.strftime(\"%Y/%m/%d %H:%M\")\n",
    "print(f\"{query_first_date} ~ {query_last_date}\")\n",
    "\n",
    "# input_date = \"2024/08/05\"  # 保留作為手動指定日期\n",
    "input_date = query_last_date  # 預設指定最近一個交易日期\n",
    "\n",
    "end_date = pd.to_datetime(input_date)\n",
    "last_month = (end_date - pd.DateOffset(days=30)).strftime(\"%Y/%m/%d\")\n",
    "\n",
    "f\"{last_month} ~ {input_date}\""
   ]
  },
  {
   "cell_type": "code",
   "execution_count": 12,
   "metadata": {},
   "outputs": [
    {
     "name": "stdout",
     "output_type": "stream",
     "text": [
      "{'firstDate': '2021/10/23 00:00', 'lastDate': '2024/10/23 00:00', 'queryStartDate': '2024/09/23', 'queryEndDate': '2024/10/23 00:00', 'commodityId': 'TXO'}\n",
      "CSV文件已成功下載並保存為mj_institutional_trader.csv\n"
     ]
    }
   ],
   "source": [
    "# 設置請求的URL\n",
    "url = \"https://www.taifex.com.tw/cht/3/callsAndPutsDateDown\"\n",
    "\n",
    "# 設置請求的payload\n",
    "# payload = {\n",
    "#     \"firstDate\": \"2021/10/04 00:00\",\n",
    "#     \"lastDate\": \"2024/10/04 00:00\",\n",
    "#     \"queryStartDate\": \"2024/10/04\",\n",
    "#     \"queryEndDate\": \"2024/10/04\",\n",
    "#     \"commodityId\": \"TXO\"\n",
    "# }\n",
    "payload = {\n",
    "    \"firstDate\": query_first_date,\n",
    "    \"lastDate\": query_last_date,\n",
    "    \"queryStartDate\": last_month,\n",
    "    \"queryEndDate\": input_date,\n",
    "    \"commodityId\": \"TXO\"\n",
    "}\n",
    "print(payload)\n",
    "\n",
    "# 發送POST請求\n",
    "response = requests.post(url, headers=headers, data=payload, verify=False)\n",
    "\n",
    "# 檢查請求是否成功\n",
    "if response.status_code == 200:\n",
    "    # 將回應內容保存為CSV文件\n",
    "    with open(\"mj_institutional_trader.csv\", \"wb\") as file:\n",
    "        file.write(response.content)\n",
    "    print(\"CSV文件已成功下載並保存為mj_institutional_trader.csv\")\n",
    "\n",
    "    df = pd.read_csv('mj_institutional_trader.csv', encoding='big5')\n",
    "    df.loc[:,\"日期\"] = pd.to_datetime(df[\"日期\"])\n",
    "    # print(df)\n",
    "\n",
    "    os.remove(\"mj_institutional_trader.csv\")\n",
    "else:\n",
    "    print(f\"請求失敗，狀態碼：{response.status_code}\")"
   ]
  },
  {
   "cell_type": "code",
   "execution_count": 13,
   "metadata": {},
   "outputs": [
    {
     "name": "stdout",
     "output_type": "stream",
     "text": [
      "自營商臺指選擇權未平倉口數買賣淨額（CALL - PUT）：\n",
      "         Date  net_oi\n",
      "0  2024-09-23   10113\n",
      "1  2024-09-24   16861\n",
      "2  2024-09-25    2500\n",
      "3  2024-09-26   -2091\n",
      "4  2024-09-27    5908\n",
      "5  2024-09-30    5825\n",
      "6  2024-10-01     425\n",
      "7  2024-10-04  -12398\n",
      "8  2024-10-07  -14101\n",
      "9  2024-10-08  -12691\n",
      "10 2024-10-09     464\n",
      "11 2024-10-11   10986\n",
      "12 2024-10-14   18116\n",
      "13 2024-10-15   22362\n",
      "14 2024-10-16   -2678\n",
      "15 2024-10-17    1868\n",
      "16 2024-10-18    1871\n",
      "17 2024-10-21    1603\n",
      "18 2024-10-22  -11503\n",
      "19 2024-10-23   -3120\n"
     ]
    }
   ],
   "source": [
    "# 篩選臺指選擇權的自營商資訊\n",
    "mj_institutional_trader_df = df.copy()\n",
    "\n",
    "mj_institutional_trader_df = mj_institutional_trader_df[\n",
    "    (mj_institutional_trader_df[\"商品名稱\"] == \"臺指選擇權\") & \n",
    "    (mj_institutional_trader_df[\"身份別\"] == \"自營商\")\n",
    "]\n",
    "mj_institutional_trader_df = mj_institutional_trader_df[[\"日期\", \"買賣權別\", \"未平倉口數買賣淨額\"]]\n",
    "mj_institutional_trader_df\n",
    "\n",
    "# 依日期合併未平倉口數買賣淨額, 用買賣權別CALL減掉PUT的未平倉口數買賣淨額值\n",
    "# 將資料轉換為寬格式，分別顯示CALL和PUT的未平倉口數買賣淨額\n",
    "mj_institutional_trader_wide = mj_institutional_trader_df.pivot(index=\"日期\", columns=\"買賣權別\", values=\"未平倉口數買賣淨額\").reset_index()\n",
    "\n",
    "# 重命名列\n",
    "mj_institutional_trader_wide.columns.name = None\n",
    "mj_institutional_trader_wide = mj_institutional_trader_wide.rename(columns={\"CALL\": \"CALL未平倉\", \"PUT\": \"PUT未平倉\"})\n",
    "\n",
    "# 計算CALL減去PUT的淨值\n",
    "mj_institutional_trader_wide[\"淨未平倉\"] = mj_institutional_trader_wide[\"CALL未平倉\"] - mj_institutional_trader_wide[\"PUT未平倉\"]\n",
    "\n",
    "# 只保留日期和淨未平倉列\n",
    "mj_institutional_trader_df = mj_institutional_trader_wide[[\"日期\", \"淨未平倉\"]]\n",
    "\n",
    "# 重命名列為英文，以符合後續使用\n",
    "mj_institutional_trader_df.columns = [\"Date\", \"net_oi\"]\n",
    "\n",
    "# 顯示結果\n",
    "print(\"自營商臺指選擇權未平倉口數買賣淨額（CALL - PUT）：\")\n",
    "print(mj_institutional_trader_df)"
   ]
  },
  {
   "cell_type": "markdown",
   "metadata": {},
   "source": [
    "## 資料留存ＤＢ"
   ]
  },
  {
   "cell_type": "code",
   "execution_count": 14,
   "metadata": {},
   "outputs": [],
   "source": [
    "# 設定資料庫路徑\n",
    "TWSTOCK_DATA_ROOT = os.environ.get(\"hist_data_path\")\n",
    "twstock_db_path = f\"{TWSTOCK_DATA_ROOT}/twstock.duckdb\""
   ]
  },
  {
   "cell_type": "code",
   "execution_count": 15,
   "metadata": {},
   "outputs": [],
   "source": [
    "# 連線資料庫\n",
    "conn_duckdb = duckdb.connect(twstock_db_path)"
   ]
  },
  {
   "cell_type": "code",
   "execution_count": 16,
   "metadata": {},
   "outputs": [],
   "source": [
    "table_name = \"tw_option_proprietary_traders_oi\""
   ]
  },
  {
   "cell_type": "code",
   "execution_count": 17,
   "metadata": {},
   "outputs": [
    {
     "name": "stderr",
     "output_type": "stream",
     "text": [
      "/var/folders/14/b8c6vz6n79n4wt12qny6djk40000gn/T/ipykernel_21995/1829465630.py:4: UserWarning: pandas only supports SQLAlchemy connectable (engine/connection) or database string URI or sqlite3 DBAPI2 connection. Other DBAPI2 objects are not tested. Please consider using SQLAlchemy.\n",
      "  mj_institutional_trader_df.iloc[i:i+1].to_sql(table_name, conn_duckdb, if_exists=\"append\", index=False)\n"
     ]
    }
   ],
   "source": [
    "# 針對DataFrame，以Date單筆先確認表中，欄位Date沒有重複資料時，才進行單筆insert\n",
    "for i in range(len(mj_institutional_trader_df)):\n",
    "    try:\n",
    "        mj_institutional_trader_df.iloc[i:i+1].to_sql(table_name, conn_duckdb, if_exists=\"append\", index=False)\n",
    "    except Exception as e:\n",
    "        # print(e)\n",
    "        pass\n"
   ]
  },
  {
   "cell_type": "code",
   "execution_count": 18,
   "metadata": {},
   "outputs": [
    {
     "data": {
      "text/html": [
       "<div>\n",
       "<style scoped>\n",
       "    .dataframe tbody tr th:only-of-type {\n",
       "        vertical-align: middle;\n",
       "    }\n",
       "\n",
       "    .dataframe tbody tr th {\n",
       "        vertical-align: top;\n",
       "    }\n",
       "\n",
       "    .dataframe thead th {\n",
       "        text-align: right;\n",
       "    }\n",
       "</style>\n",
       "<table border=\"1\" class=\"dataframe\">\n",
       "  <thead>\n",
       "    <tr style=\"text-align: right;\">\n",
       "      <th></th>\n",
       "      <th>Date</th>\n",
       "      <th>net_oi</th>\n",
       "    </tr>\n",
       "  </thead>\n",
       "  <tbody>\n",
       "    <tr>\n",
       "      <th>0</th>\n",
       "      <td>2024-10-23</td>\n",
       "      <td>-3120</td>\n",
       "    </tr>\n",
       "    <tr>\n",
       "      <th>1</th>\n",
       "      <td>2024-10-22</td>\n",
       "      <td>-11503</td>\n",
       "    </tr>\n",
       "    <tr>\n",
       "      <th>2</th>\n",
       "      <td>2024-10-21</td>\n",
       "      <td>1603</td>\n",
       "    </tr>\n",
       "    <tr>\n",
       "      <th>3</th>\n",
       "      <td>2024-10-18</td>\n",
       "      <td>1871</td>\n",
       "    </tr>\n",
       "    <tr>\n",
       "      <th>4</th>\n",
       "      <td>2024-10-17</td>\n",
       "      <td>1868</td>\n",
       "    </tr>\n",
       "    <tr>\n",
       "      <th>5</th>\n",
       "      <td>2024-10-16</td>\n",
       "      <td>-2678</td>\n",
       "    </tr>\n",
       "    <tr>\n",
       "      <th>6</th>\n",
       "      <td>2024-10-15</td>\n",
       "      <td>22362</td>\n",
       "    </tr>\n",
       "    <tr>\n",
       "      <th>7</th>\n",
       "      <td>2024-10-14</td>\n",
       "      <td>18116</td>\n",
       "    </tr>\n",
       "    <tr>\n",
       "      <th>8</th>\n",
       "      <td>2024-10-11</td>\n",
       "      <td>10986</td>\n",
       "    </tr>\n",
       "    <tr>\n",
       "      <th>9</th>\n",
       "      <td>2024-10-09</td>\n",
       "      <td>464</td>\n",
       "    </tr>\n",
       "    <tr>\n",
       "      <th>10</th>\n",
       "      <td>2024-10-08</td>\n",
       "      <td>-12691</td>\n",
       "    </tr>\n",
       "    <tr>\n",
       "      <th>11</th>\n",
       "      <td>2024-10-07</td>\n",
       "      <td>-14101</td>\n",
       "    </tr>\n",
       "    <tr>\n",
       "      <th>12</th>\n",
       "      <td>2024-10-04</td>\n",
       "      <td>-12398</td>\n",
       "    </tr>\n",
       "    <tr>\n",
       "      <th>13</th>\n",
       "      <td>2024-10-01</td>\n",
       "      <td>425</td>\n",
       "    </tr>\n",
       "    <tr>\n",
       "      <th>14</th>\n",
       "      <td>2024-09-30</td>\n",
       "      <td>5825</td>\n",
       "    </tr>\n",
       "    <tr>\n",
       "      <th>15</th>\n",
       "      <td>2024-09-27</td>\n",
       "      <td>5908</td>\n",
       "    </tr>\n",
       "    <tr>\n",
       "      <th>16</th>\n",
       "      <td>2024-09-26</td>\n",
       "      <td>-2091</td>\n",
       "    </tr>\n",
       "    <tr>\n",
       "      <th>17</th>\n",
       "      <td>2024-09-25</td>\n",
       "      <td>2500</td>\n",
       "    </tr>\n",
       "    <tr>\n",
       "      <th>18</th>\n",
       "      <td>2024-09-24</td>\n",
       "      <td>16861</td>\n",
       "    </tr>\n",
       "    <tr>\n",
       "      <th>19</th>\n",
       "      <td>2024-09-23</td>\n",
       "      <td>10113</td>\n",
       "    </tr>\n",
       "  </tbody>\n",
       "</table>\n",
       "</div>"
      ],
      "text/plain": [
       "         Date  net_oi\n",
       "0  2024-10-23   -3120\n",
       "1  2024-10-22  -11503\n",
       "2  2024-10-21    1603\n",
       "3  2024-10-18    1871\n",
       "4  2024-10-17    1868\n",
       "5  2024-10-16   -2678\n",
       "6  2024-10-15   22362\n",
       "7  2024-10-14   18116\n",
       "8  2024-10-11   10986\n",
       "9  2024-10-09     464\n",
       "10 2024-10-08  -12691\n",
       "11 2024-10-07  -14101\n",
       "12 2024-10-04  -12398\n",
       "13 2024-10-01     425\n",
       "14 2024-09-30    5825\n",
       "15 2024-09-27    5908\n",
       "16 2024-09-26   -2091\n",
       "17 2024-09-25    2500\n",
       "18 2024-09-24   16861\n",
       "19 2024-09-23   10113"
      ]
     },
     "execution_count": 18,
     "metadata": {},
     "output_type": "execute_result"
    }
   ],
   "source": [
    "# 查詢表中所有資料\n",
    "conn_duckdb.execute(f\"SELECT * FROM {table_name} order by Date desc\").fetch_df()"
   ]
  },
  {
   "cell_type": "code",
   "execution_count": 19,
   "metadata": {},
   "outputs": [],
   "source": [
    "# 關閉資料庫連線\n",
    "conn_duckdb.close()"
   ]
  },
  {
   "cell_type": "code",
   "execution_count": null,
   "metadata": {},
   "outputs": [],
   "source": []
  }
 ],
 "metadata": {
  "kernelspec": {
   "display_name": ".venv",
   "language": "python",
   "name": "python3"
  },
  "language_info": {
   "codemirror_mode": {
    "name": "ipython",
    "version": 3
   },
   "file_extension": ".py",
   "mimetype": "text/x-python",
   "name": "python",
   "nbconvert_exporter": "python",
   "pygments_lexer": "ipython3",
   "version": "3.12.3"
  }
 },
 "nbformat": 4,
 "nbformat_minor": 2
}
