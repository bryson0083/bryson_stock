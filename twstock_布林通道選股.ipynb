{
 "cells": [
  {
   "cell_type": "code",
   "execution_count": null,
   "metadata": {},
   "outputs": [],
   "source": [
    "\n",
    "import os\n",
    "from datetime import date\n",
    "from datetime import datetime\n",
    "\n",
    "import pandas as pd"
   ]
  },
  {
   "cell_type": "code",
   "execution_count": null,
   "metadata": {},
   "outputs": [],
   "source": [
    "from finlab import data"
   ]
  },
  {
   "cell_type": "code",
   "execution_count": null,
   "metadata": {},
   "outputs": [],
   "source": [
    "# 引用自建公用模組\n",
    "from proj_util_pkg.settings import ProjEnvSettings\n",
    "from proj_util_pkg.finlab_api import finlab_manager as flm\n",
    "from proj_util_pkg.google_api import gspread_manager as gsm\n",
    "from proj_util_pkg.common import tw_stock_topic as tst"
   ]
  },
  {
   "cell_type": "markdown",
   "metadata": {},
   "source": [
    "## 公用參數設定"
   ]
  },
  {
   "cell_type": "code",
   "execution_count": null,
   "metadata": {},
   "outputs": [],
   "source": [
    "# finlab api 服務初始化\n",
    "finlab = flm.FinlabManager()\n",
    "data.force_cloud_download = False"
   ]
  },
  {
   "cell_type": "code",
   "execution_count": null,
   "metadata": {},
   "outputs": [],
   "source": [
    "# 資訊輸出Google SpreadSheet 表單參數設定\n",
    "GSPERAD_SHEET_KEY = os.environ.get('gspread_wb_key')  # Google SpreadSheet 表單ID\n",
    "OUTPUT_GSHEET_NAME = '選股清單04'"
   ]
  },
  {
   "cell_type": "code",
   "execution_count": null,
   "metadata": {},
   "outputs": [],
   "source": [
    "# 本地報表輸出路徑\n",
    "REPORT_PATH = os.environ.get('report_path')"
   ]
  },
  {
   "cell_type": "markdown",
   "metadata": {},
   "source": [
    "## 外部資料讀取"
   ]
  },
  {
   "cell_type": "code",
   "execution_count": null,
   "metadata": {},
   "outputs": [],
   "source": [
    "# 讀取台股收盤價資訊\n",
    "stock_info = data.get('company_basic_info', save_to_storage=True)\n",
    "close = data.get(\"price:收盤價\", save_to_storage=True)\n",
    "low = data.get('price:最低價', save_to_storage=True)\n",
    "high = data.get('price:最高價', save_to_storage=True)"
   ]
  },
  {
   "cell_type": "markdown",
   "metadata": {},
   "source": [
    "## 數據分析"
   ]
  },
  {
   "cell_type": "code",
   "execution_count": null,
   "metadata": {},
   "outputs": [],
   "source": [
    "# 布林通道上軌、中軌、下軌計算\n",
    "upperband, middleband, lowerband = data.indicator(\n",
    "    \"BBANDS\",\n",
    "    market='TW_STOCK',\n",
    "    adjust_price=False,\n",
    "    resample=\"D\", \n",
    "    timeperiod=20, \n",
    "    nbdevup=float(2.0),\n",
    "    nbdevdn=float(2.0),\n",
    "    matype=0\n",
    ")"
   ]
  },
  {
   "cell_type": "code",
   "execution_count": null,
   "metadata": {},
   "outputs": [],
   "source": [
    "# 布林通道帶寬計算\n",
    "band_width = ((upperband / lowerband) - 1) * 100"
   ]
  },
  {
   "cell_type": "code",
   "execution_count": null,
   "metadata": {},
   "outputs": [],
   "source": [
    "band_width"
   ]
  },
  {
   "cell_type": "code",
   "execution_count": null,
   "metadata": {},
   "outputs": [],
   "source": [
    "# # 確認資料計算結果\n",
    "# sid = '2888'\n",
    "# print(upperband[sid].tail(1))\n",
    "# print(lowerband[sid].tail(1))\n",
    "# print(middleband[sid].tail(1))\n",
    "# print(upperband[sid].tail(1) / lowerband[sid].tail(1))\n",
    "# print(band_width[sid].tail(1))"
   ]
  },
  {
   "cell_type": "code",
   "execution_count": null,
   "metadata": {},
   "outputs": [],
   "source": [
    "# print(close[sid].shift(2).tail(1))\n",
    "# print(close[sid].shift(1).tail(1))\n",
    "# print(close[sid].tail(1))"
   ]
  },
  {
   "cell_type": "code",
   "execution_count": null,
   "metadata": {},
   "outputs": [],
   "source": [
    "# # 取出close symbol 2330的資料,但要保留symbol的資訊\n",
    "# test = close.iloc[:, close.columns.get_level_values(0) == '2330'].tail(3)\n",
    "\n",
    "# test"
   ]
  },
  {
   "cell_type": "code",
   "execution_count": null,
   "metadata": {},
   "outputs": [],
   "source": [
    "def _is_turning_point(tick):\n",
    "    \"\"\" 檢查報價是否為轉折點 \"\"\"\n",
    "\n",
    "    # print(close[-2], close[-1], close)\n",
    "    if tick[-3] < tick[-2] and tick[-2] > tick[-1]:\n",
    "        return -1\n",
    "    elif tick[-3] > tick[-2] and tick[-2] < tick[-1]:\n",
    "        return 1\n",
    "    else:\n",
    "        return 0\n",
    "\n",
    "# # CELL INDEX: 10\n",
    "# turning_point = test.apply(_is_turning_point, axis=0)\n",
    "# turning_point\n"
   ]
  },
  {
   "cell_type": "code",
   "execution_count": null,
   "metadata": {},
   "outputs": [],
   "source": [
    "upperband.tail(3)"
   ]
  },
  {
   "cell_type": "code",
   "execution_count": null,
   "metadata": {},
   "outputs": [],
   "source": [
    "# 篩選出帶寬大於10%的股票\n",
    "filter_band_width = band_width >= 10\n",
    "band_width_above_10_percent = filter_band_width.tail(1)\n",
    "band_width_above_10_percent_symbols = band_width_above_10_percent.columns[band_width_above_10_percent.iloc[0]].tolist()"
   ]
  },
  {
   "cell_type": "code",
   "execution_count": null,
   "metadata": {},
   "outputs": [],
   "source": [
    "len(band_width_above_10_percent_symbols)"
   ]
  },
  {
   "cell_type": "code",
   "execution_count": null,
   "metadata": {},
   "outputs": [],
   "source": [
    "# 找出最近一個上通道轉折點\n",
    "upband_turning_point = upperband[band_width_above_10_percent_symbols].apply(_is_turning_point, axis=0)\n"
   ]
  },
  {
   "cell_type": "code",
   "execution_count": null,
   "metadata": {},
   "outputs": [],
   "source": [
    "upband_turning_point"
   ]
  },
  {
   "cell_type": "code",
   "execution_count": null,
   "metadata": {},
   "outputs": [],
   "source": [
    "# upband_turning_point 轉換為DataFrame，restset index，並設定欄位名稱，欄位名稱依序為'symbol', 'is_turning_point'\n",
    "upband_turning_point_df = pd.DataFrame(upband_turning_point).reset_index()\n",
    "upband_turning_point_df.columns = ['symbol', 'is_turning_point']\n",
    "filter_stock = upband_turning_point_df.query('is_turning_point == 1')  # 篩選出上通道出現轉折點股票"
   ]
  },
  {
   "cell_type": "code",
   "execution_count": null,
   "metadata": {},
   "outputs": [],
   "source": [
    "filter_stock"
   ]
  },
  {
   "cell_type": "code",
   "execution_count": null,
   "metadata": {},
   "outputs": [],
   "source": [
    "filtered_symbols = filter_stock.symbol.to_list()"
   ]
  },
  {
   "cell_type": "code",
   "execution_count": null,
   "metadata": {},
   "outputs": [],
   "source": [
    "len(filtered_symbols)"
   ]
  },
  {
   "cell_type": "code",
   "execution_count": null,
   "metadata": {},
   "outputs": [],
   "source": [
    "df_filtered_symbols = pd.DataFrame(filtered_symbols, columns=['symbol'])\n",
    "df_filtered_symbols"
   ]
  },
  {
   "cell_type": "code",
   "execution_count": null,
   "metadata": {},
   "outputs": [],
   "source": [
    "stock_name = stock_info[['stock_id', '公司簡稱']]\n",
    "stock_name = stock_name.rename(columns={'stock_id': 'symbol'})"
   ]
  },
  {
   "cell_type": "code",
   "execution_count": null,
   "metadata": {},
   "outputs": [],
   "source": [
    "last_band_width = band_width.tail(1).T.reset_index()\n",
    "# last_band_width.columns = ['symbol', 'band_width']\n",
    "last_band_width = last_band_width.rename(columns={last_band_width.columns[0]: 'symbol', last_band_width.columns[1]: 'band_width'})\n",
    "last_band_width.fillna(0, inplace=True)\n",
    "last_band_width"
   ]
  },
  {
   "cell_type": "code",
   "execution_count": null,
   "metadata": {},
   "outputs": [],
   "source": [
    "# Merge df_filtered_symbols with stock_name on stock_id\n",
    "merged_df = df_filtered_symbols.merge(stock_name, on='symbol')\n",
    "merged_df = merged_df.merge(last_band_width, on='symbol')\n",
    "merged_df[\"web_link\"] = merged_df[\"symbol\"].apply(lambda x: f\"https://www.wantgoo.com/stock/{x}/technical-chart\")\n",
    "merged_df[\"題材概念股\"] = merged_df[\"symbol\"].apply(lambda x: tst.read_topic_stocks(x))\n",
    "\n",
    "# Print the merged DataFrame\n",
    "print(merged_df)"
   ]
  },
  {
   "cell_type": "code",
   "execution_count": null,
   "metadata": {},
   "outputs": [],
   "source": [
    "# 輸出報表留存\n",
    "today = datetime.now().strftime(\"%Y%m%d\")\n",
    "merged_df.to_excel(f'{REPORT_PATH}/{OUTPUT_GSHEET_NAME}_{today}.xlsx', index=False)"
   ]
  },
  {
   "cell_type": "markdown",
   "metadata": {},
   "source": [
    "## 輸出結果至Google sheet"
   ]
  },
  {
   "cell_type": "code",
   "execution_count": null,
   "metadata": {},
   "outputs": [],
   "source": [
    "# Google SpreadSheet 公用程式初始化\n",
    "gspread_mgr = gsm.GspreadManager()\n",
    "gspread_wb = gspread_mgr.get_spreadsheet(GSPERAD_SHEET_KEY)\n",
    "\n",
    "print(f\"更新Google 表單：{gspread_wb.title}，工作表：{OUTPUT_GSHEET_NAME}\")"
   ]
  },
  {
   "cell_type": "code",
   "execution_count": null,
   "metadata": {},
   "outputs": [],
   "source": [
    "# 刪除再重建工作表\n",
    "gspread_mgr.recreate_worksheet(GSPERAD_SHEET_KEY, OUTPUT_GSHEET_NAME)"
   ]
  },
  {
   "cell_type": "code",
   "execution_count": null,
   "metadata": {},
   "outputs": [],
   "source": [
    "# 更新工作表資料\n",
    "gspread_mgr.update_worksheet_values(\n",
    "    GSPERAD_SHEET_KEY, \n",
    "    OUTPUT_GSHEET_NAME, \n",
    "    [merged_df.columns.values.tolist()] + merged_df.values.tolist()\n",
    ")"
   ]
  },
  {
   "cell_type": "code",
   "execution_count": null,
   "metadata": {},
   "outputs": [],
   "source": []
  }
 ],
 "metadata": {
  "kernelspec": {
   "display_name": ".venv",
   "language": "python",
   "name": "python3"
  },
  "language_info": {
   "codemirror_mode": {
    "name": "ipython",
    "version": 3
   },
   "file_extension": ".py",
   "mimetype": "text/x-python",
   "name": "python",
   "nbconvert_exporter": "python",
   "pygments_lexer": "ipython3",
   "version": "3.12.3"
  }
 },
 "nbformat": 4,
 "nbformat_minor": 2
}
